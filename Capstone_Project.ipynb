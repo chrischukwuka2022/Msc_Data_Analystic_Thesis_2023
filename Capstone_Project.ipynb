{
 "cells": [
  {
   "cell_type": "markdown",
   "id": "8813655c",
   "metadata": {},
   "source": [
    "## Importing the libraries"
   ]
  },
  {
   "cell_type": "code",
   "execution_count": 1,
   "id": "35054908",
   "metadata": {},
   "outputs": [],
   "source": [
    "import pandas as pd\n",
    "import numpy as np\n",
    "import matplotlib.pyplot as plt\n",
    "import seaborn as sns"
   ]
  },
  {
   "cell_type": "code",
   "execution_count": 2,
   "id": "f4a95a56",
   "metadata": {},
   "outputs": [],
   "source": [
    "#Load the dataset\n",
    "file_path = 'C:\\\\Users\\\\chris\\\\OneDrive\\\\Desktop\\\\creditcard.csv'\n",
    "\n",
    "df= pd.read_csv(file_path)\n"
   ]
  },
  {
   "cell_type": "code",
   "execution_count": 3,
   "id": "62c4cb04",
   "metadata": {},
   "outputs": [
    {
     "data": {
      "text/html": [
       "<div>\n",
       "<style scoped>\n",
       "    .dataframe tbody tr th:only-of-type {\n",
       "        vertical-align: middle;\n",
       "    }\n",
       "\n",
       "    .dataframe tbody tr th {\n",
       "        vertical-align: top;\n",
       "    }\n",
       "\n",
       "    .dataframe thead th {\n",
       "        text-align: right;\n",
       "    }\n",
       "</style>\n",
       "<table border=\"1\" class=\"dataframe\">\n",
       "  <thead>\n",
       "    <tr style=\"text-align: right;\">\n",
       "      <th></th>\n",
       "      <th>Time</th>\n",
       "      <th>V1</th>\n",
       "      <th>V2</th>\n",
       "      <th>V3</th>\n",
       "      <th>V4</th>\n",
       "      <th>V5</th>\n",
       "      <th>V6</th>\n",
       "      <th>V7</th>\n",
       "      <th>V8</th>\n",
       "      <th>V9</th>\n",
       "      <th>...</th>\n",
       "      <th>V21</th>\n",
       "      <th>V22</th>\n",
       "      <th>V23</th>\n",
       "      <th>V24</th>\n",
       "      <th>V25</th>\n",
       "      <th>V26</th>\n",
       "      <th>V27</th>\n",
       "      <th>V28</th>\n",
       "      <th>Amount</th>\n",
       "      <th>Class</th>\n",
       "    </tr>\n",
       "  </thead>\n",
       "  <tbody>\n",
       "    <tr>\n",
       "      <th>0</th>\n",
       "      <td>0.0</td>\n",
       "      <td>-1.359807</td>\n",
       "      <td>-0.072781</td>\n",
       "      <td>2.536347</td>\n",
       "      <td>1.378155</td>\n",
       "      <td>-0.338321</td>\n",
       "      <td>0.462388</td>\n",
       "      <td>0.239599</td>\n",
       "      <td>0.098698</td>\n",
       "      <td>0.363787</td>\n",
       "      <td>...</td>\n",
       "      <td>-0.018307</td>\n",
       "      <td>0.277838</td>\n",
       "      <td>-0.110474</td>\n",
       "      <td>0.066928</td>\n",
       "      <td>0.128539</td>\n",
       "      <td>-0.189115</td>\n",
       "      <td>0.133558</td>\n",
       "      <td>-0.021053</td>\n",
       "      <td>149.62</td>\n",
       "      <td>0</td>\n",
       "    </tr>\n",
       "    <tr>\n",
       "      <th>1</th>\n",
       "      <td>0.0</td>\n",
       "      <td>1.191857</td>\n",
       "      <td>0.266151</td>\n",
       "      <td>0.166480</td>\n",
       "      <td>0.448154</td>\n",
       "      <td>0.060018</td>\n",
       "      <td>-0.082361</td>\n",
       "      <td>-0.078803</td>\n",
       "      <td>0.085102</td>\n",
       "      <td>-0.255425</td>\n",
       "      <td>...</td>\n",
       "      <td>-0.225775</td>\n",
       "      <td>-0.638672</td>\n",
       "      <td>0.101288</td>\n",
       "      <td>-0.339846</td>\n",
       "      <td>0.167170</td>\n",
       "      <td>0.125895</td>\n",
       "      <td>-0.008983</td>\n",
       "      <td>0.014724</td>\n",
       "      <td>2.69</td>\n",
       "      <td>0</td>\n",
       "    </tr>\n",
       "    <tr>\n",
       "      <th>2</th>\n",
       "      <td>1.0</td>\n",
       "      <td>-1.358354</td>\n",
       "      <td>-1.340163</td>\n",
       "      <td>1.773209</td>\n",
       "      <td>0.379780</td>\n",
       "      <td>-0.503198</td>\n",
       "      <td>1.800499</td>\n",
       "      <td>0.791461</td>\n",
       "      <td>0.247676</td>\n",
       "      <td>-1.514654</td>\n",
       "      <td>...</td>\n",
       "      <td>0.247998</td>\n",
       "      <td>0.771679</td>\n",
       "      <td>0.909412</td>\n",
       "      <td>-0.689281</td>\n",
       "      <td>-0.327642</td>\n",
       "      <td>-0.139097</td>\n",
       "      <td>-0.055353</td>\n",
       "      <td>-0.059752</td>\n",
       "      <td>378.66</td>\n",
       "      <td>0</td>\n",
       "    </tr>\n",
       "    <tr>\n",
       "      <th>3</th>\n",
       "      <td>1.0</td>\n",
       "      <td>-0.966272</td>\n",
       "      <td>-0.185226</td>\n",
       "      <td>1.792993</td>\n",
       "      <td>-0.863291</td>\n",
       "      <td>-0.010309</td>\n",
       "      <td>1.247203</td>\n",
       "      <td>0.237609</td>\n",
       "      <td>0.377436</td>\n",
       "      <td>-1.387024</td>\n",
       "      <td>...</td>\n",
       "      <td>-0.108300</td>\n",
       "      <td>0.005274</td>\n",
       "      <td>-0.190321</td>\n",
       "      <td>-1.175575</td>\n",
       "      <td>0.647376</td>\n",
       "      <td>-0.221929</td>\n",
       "      <td>0.062723</td>\n",
       "      <td>0.061458</td>\n",
       "      <td>123.50</td>\n",
       "      <td>0</td>\n",
       "    </tr>\n",
       "    <tr>\n",
       "      <th>4</th>\n",
       "      <td>2.0</td>\n",
       "      <td>-1.158233</td>\n",
       "      <td>0.877737</td>\n",
       "      <td>1.548718</td>\n",
       "      <td>0.403034</td>\n",
       "      <td>-0.407193</td>\n",
       "      <td>0.095921</td>\n",
       "      <td>0.592941</td>\n",
       "      <td>-0.270533</td>\n",
       "      <td>0.817739</td>\n",
       "      <td>...</td>\n",
       "      <td>-0.009431</td>\n",
       "      <td>0.798278</td>\n",
       "      <td>-0.137458</td>\n",
       "      <td>0.141267</td>\n",
       "      <td>-0.206010</td>\n",
       "      <td>0.502292</td>\n",
       "      <td>0.219422</td>\n",
       "      <td>0.215153</td>\n",
       "      <td>69.99</td>\n",
       "      <td>0</td>\n",
       "    </tr>\n",
       "  </tbody>\n",
       "</table>\n",
       "<p>5 rows × 31 columns</p>\n",
       "</div>"
      ],
      "text/plain": [
       "   Time        V1        V2        V3        V4        V5        V6        V7  \\\n",
       "0   0.0 -1.359807 -0.072781  2.536347  1.378155 -0.338321  0.462388  0.239599   \n",
       "1   0.0  1.191857  0.266151  0.166480  0.448154  0.060018 -0.082361 -0.078803   \n",
       "2   1.0 -1.358354 -1.340163  1.773209  0.379780 -0.503198  1.800499  0.791461   \n",
       "3   1.0 -0.966272 -0.185226  1.792993 -0.863291 -0.010309  1.247203  0.237609   \n",
       "4   2.0 -1.158233  0.877737  1.548718  0.403034 -0.407193  0.095921  0.592941   \n",
       "\n",
       "         V8        V9  ...       V21       V22       V23       V24       V25  \\\n",
       "0  0.098698  0.363787  ... -0.018307  0.277838 -0.110474  0.066928  0.128539   \n",
       "1  0.085102 -0.255425  ... -0.225775 -0.638672  0.101288 -0.339846  0.167170   \n",
       "2  0.247676 -1.514654  ...  0.247998  0.771679  0.909412 -0.689281 -0.327642   \n",
       "3  0.377436 -1.387024  ... -0.108300  0.005274 -0.190321 -1.175575  0.647376   \n",
       "4 -0.270533  0.817739  ... -0.009431  0.798278 -0.137458  0.141267 -0.206010   \n",
       "\n",
       "        V26       V27       V28  Amount  Class  \n",
       "0 -0.189115  0.133558 -0.021053  149.62      0  \n",
       "1  0.125895 -0.008983  0.014724    2.69      0  \n",
       "2 -0.139097 -0.055353 -0.059752  378.66      0  \n",
       "3 -0.221929  0.062723  0.061458  123.50      0  \n",
       "4  0.502292  0.219422  0.215153   69.99      0  \n",
       "\n",
       "[5 rows x 31 columns]"
      ]
     },
     "execution_count": 3,
     "metadata": {},
     "output_type": "execute_result"
    }
   ],
   "source": [
    "#Load the head\n",
    "df.head()"
   ]
  },
  {
   "cell_type": "code",
   "execution_count": 4,
   "id": "d0e36a76",
   "metadata": {
    "scrolled": true
   },
   "outputs": [
    {
     "data": {
      "text/html": [
       "<div>\n",
       "<style scoped>\n",
       "    .dataframe tbody tr th:only-of-type {\n",
       "        vertical-align: middle;\n",
       "    }\n",
       "\n",
       "    .dataframe tbody tr th {\n",
       "        vertical-align: top;\n",
       "    }\n",
       "\n",
       "    .dataframe thead th {\n",
       "        text-align: right;\n",
       "    }\n",
       "</style>\n",
       "<table border=\"1\" class=\"dataframe\">\n",
       "  <thead>\n",
       "    <tr style=\"text-align: right;\">\n",
       "      <th></th>\n",
       "      <th>Time</th>\n",
       "      <th>V1</th>\n",
       "      <th>V2</th>\n",
       "      <th>V3</th>\n",
       "      <th>V4</th>\n",
       "      <th>V5</th>\n",
       "      <th>V6</th>\n",
       "      <th>V7</th>\n",
       "      <th>V8</th>\n",
       "      <th>V9</th>\n",
       "      <th>...</th>\n",
       "      <th>V21</th>\n",
       "      <th>V22</th>\n",
       "      <th>V23</th>\n",
       "      <th>V24</th>\n",
       "      <th>V25</th>\n",
       "      <th>V26</th>\n",
       "      <th>V27</th>\n",
       "      <th>V28</th>\n",
       "      <th>Amount</th>\n",
       "      <th>Class</th>\n",
       "    </tr>\n",
       "  </thead>\n",
       "  <tbody>\n",
       "    <tr>\n",
       "      <th>284802</th>\n",
       "      <td>172786.0</td>\n",
       "      <td>-11.881118</td>\n",
       "      <td>10.071785</td>\n",
       "      <td>-9.834783</td>\n",
       "      <td>-2.066656</td>\n",
       "      <td>-5.364473</td>\n",
       "      <td>-2.606837</td>\n",
       "      <td>-4.918215</td>\n",
       "      <td>7.305334</td>\n",
       "      <td>1.914428</td>\n",
       "      <td>...</td>\n",
       "      <td>0.213454</td>\n",
       "      <td>0.111864</td>\n",
       "      <td>1.014480</td>\n",
       "      <td>-0.509348</td>\n",
       "      <td>1.436807</td>\n",
       "      <td>0.250034</td>\n",
       "      <td>0.943651</td>\n",
       "      <td>0.823731</td>\n",
       "      <td>0.77</td>\n",
       "      <td>0</td>\n",
       "    </tr>\n",
       "    <tr>\n",
       "      <th>284803</th>\n",
       "      <td>172787.0</td>\n",
       "      <td>-0.732789</td>\n",
       "      <td>-0.055080</td>\n",
       "      <td>2.035030</td>\n",
       "      <td>-0.738589</td>\n",
       "      <td>0.868229</td>\n",
       "      <td>1.058415</td>\n",
       "      <td>0.024330</td>\n",
       "      <td>0.294869</td>\n",
       "      <td>0.584800</td>\n",
       "      <td>...</td>\n",
       "      <td>0.214205</td>\n",
       "      <td>0.924384</td>\n",
       "      <td>0.012463</td>\n",
       "      <td>-1.016226</td>\n",
       "      <td>-0.606624</td>\n",
       "      <td>-0.395255</td>\n",
       "      <td>0.068472</td>\n",
       "      <td>-0.053527</td>\n",
       "      <td>24.79</td>\n",
       "      <td>0</td>\n",
       "    </tr>\n",
       "    <tr>\n",
       "      <th>284804</th>\n",
       "      <td>172788.0</td>\n",
       "      <td>1.919565</td>\n",
       "      <td>-0.301254</td>\n",
       "      <td>-3.249640</td>\n",
       "      <td>-0.557828</td>\n",
       "      <td>2.630515</td>\n",
       "      <td>3.031260</td>\n",
       "      <td>-0.296827</td>\n",
       "      <td>0.708417</td>\n",
       "      <td>0.432454</td>\n",
       "      <td>...</td>\n",
       "      <td>0.232045</td>\n",
       "      <td>0.578229</td>\n",
       "      <td>-0.037501</td>\n",
       "      <td>0.640134</td>\n",
       "      <td>0.265745</td>\n",
       "      <td>-0.087371</td>\n",
       "      <td>0.004455</td>\n",
       "      <td>-0.026561</td>\n",
       "      <td>67.88</td>\n",
       "      <td>0</td>\n",
       "    </tr>\n",
       "    <tr>\n",
       "      <th>284805</th>\n",
       "      <td>172788.0</td>\n",
       "      <td>-0.240440</td>\n",
       "      <td>0.530483</td>\n",
       "      <td>0.702510</td>\n",
       "      <td>0.689799</td>\n",
       "      <td>-0.377961</td>\n",
       "      <td>0.623708</td>\n",
       "      <td>-0.686180</td>\n",
       "      <td>0.679145</td>\n",
       "      <td>0.392087</td>\n",
       "      <td>...</td>\n",
       "      <td>0.265245</td>\n",
       "      <td>0.800049</td>\n",
       "      <td>-0.163298</td>\n",
       "      <td>0.123205</td>\n",
       "      <td>-0.569159</td>\n",
       "      <td>0.546668</td>\n",
       "      <td>0.108821</td>\n",
       "      <td>0.104533</td>\n",
       "      <td>10.00</td>\n",
       "      <td>0</td>\n",
       "    </tr>\n",
       "    <tr>\n",
       "      <th>284806</th>\n",
       "      <td>172792.0</td>\n",
       "      <td>-0.533413</td>\n",
       "      <td>-0.189733</td>\n",
       "      <td>0.703337</td>\n",
       "      <td>-0.506271</td>\n",
       "      <td>-0.012546</td>\n",
       "      <td>-0.649617</td>\n",
       "      <td>1.577006</td>\n",
       "      <td>-0.414650</td>\n",
       "      <td>0.486180</td>\n",
       "      <td>...</td>\n",
       "      <td>0.261057</td>\n",
       "      <td>0.643078</td>\n",
       "      <td>0.376777</td>\n",
       "      <td>0.008797</td>\n",
       "      <td>-0.473649</td>\n",
       "      <td>-0.818267</td>\n",
       "      <td>-0.002415</td>\n",
       "      <td>0.013649</td>\n",
       "      <td>217.00</td>\n",
       "      <td>0</td>\n",
       "    </tr>\n",
       "  </tbody>\n",
       "</table>\n",
       "<p>5 rows × 31 columns</p>\n",
       "</div>"
      ],
      "text/plain": [
       "            Time         V1         V2        V3        V4        V5  \\\n",
       "284802  172786.0 -11.881118  10.071785 -9.834783 -2.066656 -5.364473   \n",
       "284803  172787.0  -0.732789  -0.055080  2.035030 -0.738589  0.868229   \n",
       "284804  172788.0   1.919565  -0.301254 -3.249640 -0.557828  2.630515   \n",
       "284805  172788.0  -0.240440   0.530483  0.702510  0.689799 -0.377961   \n",
       "284806  172792.0  -0.533413  -0.189733  0.703337 -0.506271 -0.012546   \n",
       "\n",
       "              V6        V7        V8        V9  ...       V21       V22  \\\n",
       "284802 -2.606837 -4.918215  7.305334  1.914428  ...  0.213454  0.111864   \n",
       "284803  1.058415  0.024330  0.294869  0.584800  ...  0.214205  0.924384   \n",
       "284804  3.031260 -0.296827  0.708417  0.432454  ...  0.232045  0.578229   \n",
       "284805  0.623708 -0.686180  0.679145  0.392087  ...  0.265245  0.800049   \n",
       "284806 -0.649617  1.577006 -0.414650  0.486180  ...  0.261057  0.643078   \n",
       "\n",
       "             V23       V24       V25       V26       V27       V28  Amount  \\\n",
       "284802  1.014480 -0.509348  1.436807  0.250034  0.943651  0.823731    0.77   \n",
       "284803  0.012463 -1.016226 -0.606624 -0.395255  0.068472 -0.053527   24.79   \n",
       "284804 -0.037501  0.640134  0.265745 -0.087371  0.004455 -0.026561   67.88   \n",
       "284805 -0.163298  0.123205 -0.569159  0.546668  0.108821  0.104533   10.00   \n",
       "284806  0.376777  0.008797 -0.473649 -0.818267 -0.002415  0.013649  217.00   \n",
       "\n",
       "        Class  \n",
       "284802      0  \n",
       "284803      0  \n",
       "284804      0  \n",
       "284805      0  \n",
       "284806      0  \n",
       "\n",
       "[5 rows x 31 columns]"
      ]
     },
     "execution_count": 4,
     "metadata": {},
     "output_type": "execute_result"
    }
   ],
   "source": [
    "#Load the head\n",
    "df.tail()"
   ]
  },
  {
   "cell_type": "code",
   "execution_count": 5,
   "id": "3fb9d3e9",
   "metadata": {},
   "outputs": [
    {
     "data": {
      "text/plain": [
       "Index(['Time', 'V1', 'V2', 'V3', 'V4', 'V5', 'V6', 'V7', 'V8', 'V9', 'V10',\n",
       "       'V11', 'V12', 'V13', 'V14', 'V15', 'V16', 'V17', 'V18', 'V19', 'V20',\n",
       "       'V21', 'V22', 'V23', 'V24', 'V25', 'V26', 'V27', 'V28', 'Amount',\n",
       "       'Class'],\n",
       "      dtype='object')"
      ]
     },
     "execution_count": 5,
     "metadata": {},
     "output_type": "execute_result"
    }
   ],
   "source": [
    "df.columns"
   ]
  },
  {
   "cell_type": "markdown",
   "id": "e789cd2e",
   "metadata": {},
   "source": [
    "## Display basic information about the dataset\n",
    "\n",
    "Number of Rows: 284,807\n",
    "Number of Columns: 31\n",
    "\n",
    "## Column Names:\n",
    "\n",
    "Time = Time of transaction\n",
    "\n",
    "features = V1 to V28 (PCA transformation i.e  anonymization and dimensionality reduction)\n",
    "\n",
    "Amount = Transaction amount.\n",
    "\n",
    "Class = class indicator i.e if  transaction is fraudulent (1) or not (0)."
   ]
  },
  {
   "cell_type": "code",
   "execution_count": 6,
   "id": "41e869be",
   "metadata": {},
   "outputs": [
    {
     "name": "stdout",
     "output_type": "stream",
     "text": [
      "<class 'pandas.core.frame.DataFrame'>\n",
      "RangeIndex: 284807 entries, 0 to 284806\n",
      "Data columns (total 31 columns):\n",
      " #   Column  Non-Null Count   Dtype  \n",
      "---  ------  --------------   -----  \n",
      " 0   Time    284807 non-null  float64\n",
      " 1   V1      284807 non-null  float64\n",
      " 2   V2      284807 non-null  float64\n",
      " 3   V3      284807 non-null  float64\n",
      " 4   V4      284807 non-null  float64\n",
      " 5   V5      284807 non-null  float64\n",
      " 6   V6      284807 non-null  float64\n",
      " 7   V7      284807 non-null  float64\n",
      " 8   V8      284807 non-null  float64\n",
      " 9   V9      284807 non-null  float64\n",
      " 10  V10     284807 non-null  float64\n",
      " 11  V11     284807 non-null  float64\n",
      " 12  V12     284807 non-null  float64\n",
      " 13  V13     284807 non-null  float64\n",
      " 14  V14     284807 non-null  float64\n",
      " 15  V15     284807 non-null  float64\n",
      " 16  V16     284807 non-null  float64\n",
      " 17  V17     284807 non-null  float64\n",
      " 18  V18     284807 non-null  float64\n",
      " 19  V19     284807 non-null  float64\n",
      " 20  V20     284807 non-null  float64\n",
      " 21  V21     284807 non-null  float64\n",
      " 22  V22     284807 non-null  float64\n",
      " 23  V23     284807 non-null  float64\n",
      " 24  V24     284807 non-null  float64\n",
      " 25  V25     284807 non-null  float64\n",
      " 26  V26     284807 non-null  float64\n",
      " 27  V27     284807 non-null  float64\n",
      " 28  V28     284807 non-null  float64\n",
      " 29  Amount  284807 non-null  float64\n",
      " 30  Class   284807 non-null  int64  \n",
      "dtypes: float64(30), int64(1)\n",
      "memory usage: 67.4 MB\n"
     ]
    }
   ],
   "source": [
    "# Display basic information about the dataset\n",
    "df.info()"
   ]
  },
  {
   "cell_type": "markdown",
   "id": "af82fd01",
   "metadata": {},
   "source": [
    "## Descriptive Statistics:"
   ]
  },
  {
   "cell_type": "code",
   "execution_count": 7,
   "id": "1602f225",
   "metadata": {},
   "outputs": [
    {
     "data": {
      "text/html": [
       "<div>\n",
       "<style scoped>\n",
       "    .dataframe tbody tr th:only-of-type {\n",
       "        vertical-align: middle;\n",
       "    }\n",
       "\n",
       "    .dataframe tbody tr th {\n",
       "        vertical-align: top;\n",
       "    }\n",
       "\n",
       "    .dataframe thead th {\n",
       "        text-align: right;\n",
       "    }\n",
       "</style>\n",
       "<table border=\"1\" class=\"dataframe\">\n",
       "  <thead>\n",
       "    <tr style=\"text-align: right;\">\n",
       "      <th></th>\n",
       "      <th>Time</th>\n",
       "      <th>V1</th>\n",
       "      <th>V2</th>\n",
       "      <th>V3</th>\n",
       "      <th>V4</th>\n",
       "      <th>V5</th>\n",
       "      <th>V6</th>\n",
       "      <th>V7</th>\n",
       "      <th>V8</th>\n",
       "      <th>V9</th>\n",
       "      <th>...</th>\n",
       "      <th>V21</th>\n",
       "      <th>V22</th>\n",
       "      <th>V23</th>\n",
       "      <th>V24</th>\n",
       "      <th>V25</th>\n",
       "      <th>V26</th>\n",
       "      <th>V27</th>\n",
       "      <th>V28</th>\n",
       "      <th>Amount</th>\n",
       "      <th>Class</th>\n",
       "    </tr>\n",
       "  </thead>\n",
       "  <tbody>\n",
       "    <tr>\n",
       "      <th>count</th>\n",
       "      <td>284807.000000</td>\n",
       "      <td>2.848070e+05</td>\n",
       "      <td>2.848070e+05</td>\n",
       "      <td>2.848070e+05</td>\n",
       "      <td>2.848070e+05</td>\n",
       "      <td>2.848070e+05</td>\n",
       "      <td>2.848070e+05</td>\n",
       "      <td>2.848070e+05</td>\n",
       "      <td>2.848070e+05</td>\n",
       "      <td>2.848070e+05</td>\n",
       "      <td>...</td>\n",
       "      <td>2.848070e+05</td>\n",
       "      <td>2.848070e+05</td>\n",
       "      <td>2.848070e+05</td>\n",
       "      <td>2.848070e+05</td>\n",
       "      <td>2.848070e+05</td>\n",
       "      <td>2.848070e+05</td>\n",
       "      <td>2.848070e+05</td>\n",
       "      <td>2.848070e+05</td>\n",
       "      <td>284807.000000</td>\n",
       "      <td>284807.000000</td>\n",
       "    </tr>\n",
       "    <tr>\n",
       "      <th>mean</th>\n",
       "      <td>94813.859575</td>\n",
       "      <td>1.168375e-15</td>\n",
       "      <td>3.416908e-16</td>\n",
       "      <td>-1.379537e-15</td>\n",
       "      <td>2.074095e-15</td>\n",
       "      <td>9.604066e-16</td>\n",
       "      <td>1.487313e-15</td>\n",
       "      <td>-5.556467e-16</td>\n",
       "      <td>1.213481e-16</td>\n",
       "      <td>-2.406331e-15</td>\n",
       "      <td>...</td>\n",
       "      <td>1.654067e-16</td>\n",
       "      <td>-3.568593e-16</td>\n",
       "      <td>2.578648e-16</td>\n",
       "      <td>4.473266e-15</td>\n",
       "      <td>5.340915e-16</td>\n",
       "      <td>1.683437e-15</td>\n",
       "      <td>-3.660091e-16</td>\n",
       "      <td>-1.227390e-16</td>\n",
       "      <td>88.349619</td>\n",
       "      <td>0.001727</td>\n",
       "    </tr>\n",
       "    <tr>\n",
       "      <th>std</th>\n",
       "      <td>47488.145955</td>\n",
       "      <td>1.958696e+00</td>\n",
       "      <td>1.651309e+00</td>\n",
       "      <td>1.516255e+00</td>\n",
       "      <td>1.415869e+00</td>\n",
       "      <td>1.380247e+00</td>\n",
       "      <td>1.332271e+00</td>\n",
       "      <td>1.237094e+00</td>\n",
       "      <td>1.194353e+00</td>\n",
       "      <td>1.098632e+00</td>\n",
       "      <td>...</td>\n",
       "      <td>7.345240e-01</td>\n",
       "      <td>7.257016e-01</td>\n",
       "      <td>6.244603e-01</td>\n",
       "      <td>6.056471e-01</td>\n",
       "      <td>5.212781e-01</td>\n",
       "      <td>4.822270e-01</td>\n",
       "      <td>4.036325e-01</td>\n",
       "      <td>3.300833e-01</td>\n",
       "      <td>250.120109</td>\n",
       "      <td>0.041527</td>\n",
       "    </tr>\n",
       "    <tr>\n",
       "      <th>min</th>\n",
       "      <td>0.000000</td>\n",
       "      <td>-5.640751e+01</td>\n",
       "      <td>-7.271573e+01</td>\n",
       "      <td>-4.832559e+01</td>\n",
       "      <td>-5.683171e+00</td>\n",
       "      <td>-1.137433e+02</td>\n",
       "      <td>-2.616051e+01</td>\n",
       "      <td>-4.355724e+01</td>\n",
       "      <td>-7.321672e+01</td>\n",
       "      <td>-1.343407e+01</td>\n",
       "      <td>...</td>\n",
       "      <td>-3.483038e+01</td>\n",
       "      <td>-1.093314e+01</td>\n",
       "      <td>-4.480774e+01</td>\n",
       "      <td>-2.836627e+00</td>\n",
       "      <td>-1.029540e+01</td>\n",
       "      <td>-2.604551e+00</td>\n",
       "      <td>-2.256568e+01</td>\n",
       "      <td>-1.543008e+01</td>\n",
       "      <td>0.000000</td>\n",
       "      <td>0.000000</td>\n",
       "    </tr>\n",
       "    <tr>\n",
       "      <th>25%</th>\n",
       "      <td>54201.500000</td>\n",
       "      <td>-9.203734e-01</td>\n",
       "      <td>-5.985499e-01</td>\n",
       "      <td>-8.903648e-01</td>\n",
       "      <td>-8.486401e-01</td>\n",
       "      <td>-6.915971e-01</td>\n",
       "      <td>-7.682956e-01</td>\n",
       "      <td>-5.540759e-01</td>\n",
       "      <td>-2.086297e-01</td>\n",
       "      <td>-6.430976e-01</td>\n",
       "      <td>...</td>\n",
       "      <td>-2.283949e-01</td>\n",
       "      <td>-5.423504e-01</td>\n",
       "      <td>-1.618463e-01</td>\n",
       "      <td>-3.545861e-01</td>\n",
       "      <td>-3.171451e-01</td>\n",
       "      <td>-3.269839e-01</td>\n",
       "      <td>-7.083953e-02</td>\n",
       "      <td>-5.295979e-02</td>\n",
       "      <td>5.600000</td>\n",
       "      <td>0.000000</td>\n",
       "    </tr>\n",
       "    <tr>\n",
       "      <th>50%</th>\n",
       "      <td>84692.000000</td>\n",
       "      <td>1.810880e-02</td>\n",
       "      <td>6.548556e-02</td>\n",
       "      <td>1.798463e-01</td>\n",
       "      <td>-1.984653e-02</td>\n",
       "      <td>-5.433583e-02</td>\n",
       "      <td>-2.741871e-01</td>\n",
       "      <td>4.010308e-02</td>\n",
       "      <td>2.235804e-02</td>\n",
       "      <td>-5.142873e-02</td>\n",
       "      <td>...</td>\n",
       "      <td>-2.945017e-02</td>\n",
       "      <td>6.781943e-03</td>\n",
       "      <td>-1.119293e-02</td>\n",
       "      <td>4.097606e-02</td>\n",
       "      <td>1.659350e-02</td>\n",
       "      <td>-5.213911e-02</td>\n",
       "      <td>1.342146e-03</td>\n",
       "      <td>1.124383e-02</td>\n",
       "      <td>22.000000</td>\n",
       "      <td>0.000000</td>\n",
       "    </tr>\n",
       "    <tr>\n",
       "      <th>75%</th>\n",
       "      <td>139320.500000</td>\n",
       "      <td>1.315642e+00</td>\n",
       "      <td>8.037239e-01</td>\n",
       "      <td>1.027196e+00</td>\n",
       "      <td>7.433413e-01</td>\n",
       "      <td>6.119264e-01</td>\n",
       "      <td>3.985649e-01</td>\n",
       "      <td>5.704361e-01</td>\n",
       "      <td>3.273459e-01</td>\n",
       "      <td>5.971390e-01</td>\n",
       "      <td>...</td>\n",
       "      <td>1.863772e-01</td>\n",
       "      <td>5.285536e-01</td>\n",
       "      <td>1.476421e-01</td>\n",
       "      <td>4.395266e-01</td>\n",
       "      <td>3.507156e-01</td>\n",
       "      <td>2.409522e-01</td>\n",
       "      <td>9.104512e-02</td>\n",
       "      <td>7.827995e-02</td>\n",
       "      <td>77.165000</td>\n",
       "      <td>0.000000</td>\n",
       "    </tr>\n",
       "    <tr>\n",
       "      <th>max</th>\n",
       "      <td>172792.000000</td>\n",
       "      <td>2.454930e+00</td>\n",
       "      <td>2.205773e+01</td>\n",
       "      <td>9.382558e+00</td>\n",
       "      <td>1.687534e+01</td>\n",
       "      <td>3.480167e+01</td>\n",
       "      <td>7.330163e+01</td>\n",
       "      <td>1.205895e+02</td>\n",
       "      <td>2.000721e+01</td>\n",
       "      <td>1.559499e+01</td>\n",
       "      <td>...</td>\n",
       "      <td>2.720284e+01</td>\n",
       "      <td>1.050309e+01</td>\n",
       "      <td>2.252841e+01</td>\n",
       "      <td>4.584549e+00</td>\n",
       "      <td>7.519589e+00</td>\n",
       "      <td>3.517346e+00</td>\n",
       "      <td>3.161220e+01</td>\n",
       "      <td>3.384781e+01</td>\n",
       "      <td>25691.160000</td>\n",
       "      <td>1.000000</td>\n",
       "    </tr>\n",
       "  </tbody>\n",
       "</table>\n",
       "<p>8 rows × 31 columns</p>\n",
       "</div>"
      ],
      "text/plain": [
       "                Time            V1            V2            V3            V4  \\\n",
       "count  284807.000000  2.848070e+05  2.848070e+05  2.848070e+05  2.848070e+05   \n",
       "mean    94813.859575  1.168375e-15  3.416908e-16 -1.379537e-15  2.074095e-15   \n",
       "std     47488.145955  1.958696e+00  1.651309e+00  1.516255e+00  1.415869e+00   \n",
       "min         0.000000 -5.640751e+01 -7.271573e+01 -4.832559e+01 -5.683171e+00   \n",
       "25%     54201.500000 -9.203734e-01 -5.985499e-01 -8.903648e-01 -8.486401e-01   \n",
       "50%     84692.000000  1.810880e-02  6.548556e-02  1.798463e-01 -1.984653e-02   \n",
       "75%    139320.500000  1.315642e+00  8.037239e-01  1.027196e+00  7.433413e-01   \n",
       "max    172792.000000  2.454930e+00  2.205773e+01  9.382558e+00  1.687534e+01   \n",
       "\n",
       "                 V5            V6            V7            V8            V9  \\\n",
       "count  2.848070e+05  2.848070e+05  2.848070e+05  2.848070e+05  2.848070e+05   \n",
       "mean   9.604066e-16  1.487313e-15 -5.556467e-16  1.213481e-16 -2.406331e-15   \n",
       "std    1.380247e+00  1.332271e+00  1.237094e+00  1.194353e+00  1.098632e+00   \n",
       "min   -1.137433e+02 -2.616051e+01 -4.355724e+01 -7.321672e+01 -1.343407e+01   \n",
       "25%   -6.915971e-01 -7.682956e-01 -5.540759e-01 -2.086297e-01 -6.430976e-01   \n",
       "50%   -5.433583e-02 -2.741871e-01  4.010308e-02  2.235804e-02 -5.142873e-02   \n",
       "75%    6.119264e-01  3.985649e-01  5.704361e-01  3.273459e-01  5.971390e-01   \n",
       "max    3.480167e+01  7.330163e+01  1.205895e+02  2.000721e+01  1.559499e+01   \n",
       "\n",
       "       ...           V21           V22           V23           V24  \\\n",
       "count  ...  2.848070e+05  2.848070e+05  2.848070e+05  2.848070e+05   \n",
       "mean   ...  1.654067e-16 -3.568593e-16  2.578648e-16  4.473266e-15   \n",
       "std    ...  7.345240e-01  7.257016e-01  6.244603e-01  6.056471e-01   \n",
       "min    ... -3.483038e+01 -1.093314e+01 -4.480774e+01 -2.836627e+00   \n",
       "25%    ... -2.283949e-01 -5.423504e-01 -1.618463e-01 -3.545861e-01   \n",
       "50%    ... -2.945017e-02  6.781943e-03 -1.119293e-02  4.097606e-02   \n",
       "75%    ...  1.863772e-01  5.285536e-01  1.476421e-01  4.395266e-01   \n",
       "max    ...  2.720284e+01  1.050309e+01  2.252841e+01  4.584549e+00   \n",
       "\n",
       "                V25           V26           V27           V28         Amount  \\\n",
       "count  2.848070e+05  2.848070e+05  2.848070e+05  2.848070e+05  284807.000000   \n",
       "mean   5.340915e-16  1.683437e-15 -3.660091e-16 -1.227390e-16      88.349619   \n",
       "std    5.212781e-01  4.822270e-01  4.036325e-01  3.300833e-01     250.120109   \n",
       "min   -1.029540e+01 -2.604551e+00 -2.256568e+01 -1.543008e+01       0.000000   \n",
       "25%   -3.171451e-01 -3.269839e-01 -7.083953e-02 -5.295979e-02       5.600000   \n",
       "50%    1.659350e-02 -5.213911e-02  1.342146e-03  1.124383e-02      22.000000   \n",
       "75%    3.507156e-01  2.409522e-01  9.104512e-02  7.827995e-02      77.165000   \n",
       "max    7.519589e+00  3.517346e+00  3.161220e+01  3.384781e+01   25691.160000   \n",
       "\n",
       "               Class  \n",
       "count  284807.000000  \n",
       "mean        0.001727  \n",
       "std         0.041527  \n",
       "min         0.000000  \n",
       "25%         0.000000  \n",
       "50%         0.000000  \n",
       "75%         0.000000  \n",
       "max         1.000000  \n",
       "\n",
       "[8 rows x 31 columns]"
      ]
     },
     "execution_count": 7,
     "metadata": {},
     "output_type": "execute_result"
    }
   ],
   "source": [
    "df.describe()"
   ]
  },
  {
   "cell_type": "markdown",
   "id": "048c9e4b",
   "metadata": {},
   "source": [
    "## Data Cleaning:"
   ]
  },
  {
   "cell_type": "code",
   "execution_count": 8,
   "id": "f62eda0c",
   "metadata": {},
   "outputs": [
    {
     "data": {
      "text/plain": [
       "Time      0\n",
       "V1        0\n",
       "V2        0\n",
       "V3        0\n",
       "V4        0\n",
       "V5        0\n",
       "V6        0\n",
       "V7        0\n",
       "V8        0\n",
       "V9        0\n",
       "V10       0\n",
       "V11       0\n",
       "V12       0\n",
       "V13       0\n",
       "V14       0\n",
       "V15       0\n",
       "V16       0\n",
       "V17       0\n",
       "V18       0\n",
       "V19       0\n",
       "V20       0\n",
       "V21       0\n",
       "V22       0\n",
       "V23       0\n",
       "V24       0\n",
       "V25       0\n",
       "V26       0\n",
       "V27       0\n",
       "V28       0\n",
       "Amount    0\n",
       "Class     0\n",
       "dtype: int64"
      ]
     },
     "execution_count": 8,
     "metadata": {},
     "output_type": "execute_result"
    }
   ],
   "source": [
    "# Checking for missing values in each column\n",
    "missing_values = df.isnull().sum()\n",
    "\n",
    "missing_values"
   ]
  },
  {
   "cell_type": "markdown",
   "id": "a055755a",
   "metadata": {},
   "source": [
    "## Exploratory Data Analysis (EDA):"
   ]
  },
  {
   "cell_type": "code",
   "execution_count": 9,
   "id": "35f00c89",
   "metadata": {},
   "outputs": [
    {
     "data": {
      "image/png": "[encoded data removed]",
      "text/plain": [
       "<Figure size 1500x500 with 3 Axes>"
      ]
     },
     "metadata": {},
     "output_type": "display_data"
    }
   ],
   "source": [
    "# Set the aesthetic style of the plots\n",
    "sns.set_style(\"whitegrid\")\n",
    "\n",
    "# Selecting a subset of features for visualization\n",
    "features_to_plot = ['V1', 'V10', 'V20']\n",
    "\n",
    "# Creating histograms\n",
    "plt.figure(figsize=(15, 5))\n",
    "for i, feature in enumerate(features_to_plot, 1):\n",
    "    plt.subplot(1, 3, i)\n",
    "    sns.histplot(df[feature], kde=False, bins=30)\n",
    "    plt.title(f'Histogram of {feature}')\n",
    "plt.tight_layout()\n",
    "plt.show()"
   ]
  },
  {
   "cell_type": "markdown",
   "id": "fb4364d7",
   "metadata": {},
   "source": [
    "## Histograms\n",
    "\n",
    "Histograms for a subset of the features (e.g., V1, V10, V20) to observe their distributions.\n",
    "\n",
    "V1: Appears to be somewhat normally distributed with a slight skew.\n",
    "\n",
    "V10: This feature shows a peak around the center but with a long tail, suggesting some outliers.\n",
    "\n",
    "V20: Similar to V10, it has a central peak with extended tails, indicating potential outliers."
   ]
  },
  {
   "cell_type": "markdown",
   "id": "8a547dc9",
   "metadata": {},
   "source": [
    "## Box Plots:"
   ]
  },
  {
   "cell_type": "code",
   "execution_count": 10,
   "id": "c005e40b",
   "metadata": {},
   "outputs": [
    {
     "data": {
      "image/png": "[encoded data removed]",
      "text/plain": [
       "<Figure size 1500x500 with 3 Axes>"
      ]
     },
     "metadata": {},
     "output_type": "display_data"
    }
   ],
   "source": [
    "# Creating box plots\n",
    "plt.figure(figsize=(15, 5))\n",
    "for i, feature in enumerate(features_to_plot, 1):\n",
    "    plt.subplot(1, 3, i)\n",
    "    sns.boxplot(y=df[feature])\n",
    "    plt.title(f'Box Plot of {feature}')\n",
    "plt.tight_layout()\n",
    "plt.show()"
   ]
  },
  {
   "cell_type": "markdown",
   "id": "004a7707",
   "metadata": {},
   "source": [
    "## Box Plots:\n",
    "\n",
    "All three features display a significant number of outliers, as evidenced by the points outside the whiskers of the box plots. This is common in financial datasets where large transactions (or other anomalies) can appear as outliers."
   ]
  },
  {
   "cell_type": "markdown",
   "id": "b471192f",
   "metadata": {},
   "source": [
    "## scatter plot"
   ]
  },
  {
   "cell_type": "code",
   "execution_count": 11,
   "id": "9781a666",
   "metadata": {},
   "outputs": [
    {
     "data": {
      "image/png": "[encoded data removed]",
      "text/plain": [
       "<Figure size 1000x600 with 1 Axes>"
      ]
     },
     "metadata": {},
     "output_type": "display_data"
    }
   ],
   "source": [
    "# Creating a scatter plot for V1 against V10\n",
    "plt.figure(figsize=(10, 6))\n",
    "sns.scatterplot(x=df['V1'], y=df['V10'])\n",
    "plt.title('Scatter Plot of V1 vs V10')\n",
    "plt.xlabel('V1')\n",
    "plt.ylabel('V10')\n",
    "plt.show()\n",
    "\n"
   ]
  },
  {
   "cell_type": "markdown",
   "id": "3a252baf",
   "metadata": {},
   "source": [
    "#  The scatter plot of V1 versus V10 offers several insights:\n",
    "\n",
    "There is no clear linear relationship between these two features.\n",
    "\n",
    "Most data points are concentrated around the center, but there is a noticeable spread along both axes.\n",
    "\n",
    "There are distinct areas where data points are sparse, indicating potential outliers or unusual transactions"
   ]
  },
  {
   "cell_type": "markdown",
   "id": "076b76f3",
   "metadata": {},
   "source": [
    "# Creating Bar plots Analyze the 'Class' variable to determine the balance between fraud and non-fraud transactions."
   ]
  },
  {
   "cell_type": "code",
   "execution_count": 12,
   "id": "a398e9c3",
   "metadata": {},
   "outputs": [
    {
     "data": {
      "image/png": "[encoded data removed]",
      "text/plain": [
       "<Figure size 700x500 with 1 Axes>"
      ]
     },
     "metadata": {},
     "output_type": "display_data"
    },
    {
     "data": {
      "text/plain": [
       "(0    284315\n",
       " 1       492\n",
       " Name: Class, dtype: int64,\n",
       " 0.1727485630620034)"
      ]
     },
     "execution_count": 12,
     "metadata": {},
     "output_type": "execute_result"
    }
   ],
   "source": [
    "# Analyzing the 'Class' variable\n",
    "class_distribution = df['Class'].value_counts()\n",
    "fraud_percentage = (class_distribution[1] / class_distribution.sum()) * 100\n",
    "\n",
    "# Creating a bar plot for the 'Class' variable\n",
    "plt.figure(figsize=(7, 5))\n",
    "sns.barplot(x=class_distribution.index, y=class_distribution.values)\n",
    "plt.title('Distribution of Fraud vs Non-Fraud Transactions')\n",
    "plt.xlabel('Class (0: Non-Fraud, 1: Fraud)')\n",
    "plt.ylabel('Number of Transactions')\n",
    "plt.xticks(range(2), ['Non-Fraud (0)', 'Fraud (1)'])\n",
    "plt.show()\n",
    "\n",
    "class_distribution, fraud_percentage"
   ]
  },
  {
   "cell_type": "markdown",
   "id": "1ba01e9d",
   "metadata": {},
   "source": [
    "######      The analysis shows that the  'Class' variable reveals a significant imbalance between fraud and non-fraud transactions:\n",
    "     \n",
    "  Non-Fraud Transactions (Class 0): 284,315 instances\n",
    "    \n",
    "  Fraud Transactions (Class 1): 492 instances\n",
    "    \n",
    "  The bar plot shows the imbalance, that a very small ratio of the transactions was fraudulent"
   ]
  },
  {
   "cell_type": "markdown",
   "id": "45591d36",
   "metadata": {},
   "source": [
    "#  \tFeature Engineering:"
   ]
  },
  {
   "cell_type": "code",
   "execution_count": 31,
   "id": "3bb2797d",
   "metadata": {},
   "outputs": [],
   "source": [
    "from sklearn.preprocessing import StandardScaler\n",
    "\n",
    "# Copying the dataset to apply transformations\n",
    "transformed_data = df.copy()\n",
    "\n",
    "# Standardizing the 'Amount' feature\n",
    "scaler = StandardScaler()\n",
    "transformed_data['NormalizedAmount'] = scaler.fit_transform(transformed_data['Amount'].values.reshape(-1, 1))\n"
   ]
  },
  {
   "cell_type": "markdown",
   "id": "d64e6c56",
   "metadata": {},
   "source": [
    "######  Normalize/Standardize Features\n",
    "\n",
    "The features V1-V28 are result of a PCA ,It is mostly like it has been  already normalized or standardized so the same principle can be applied for transformation of the 'Amount' feature to bringing to standard\n",
    "\n",
    "###### Create New Features:\n",
    "New features column will be created('Amount' feature) and new features based on the 'Time' column\n",
    "\n",
    "The 'Amount' feature will be standardized and added to the dataset as 'NormalizedAmount'. The original 'Amount' column has been removed to avoid redundancy."
   ]
  },
  {
   "cell_type": "markdown",
   "id": "33c0a390",
   "metadata": {},
   "source": [
    "# Rule 1: Unusual Increase in Transaction Amount"
   ]
  },
  {
   "cell_type": "code",
   "execution_count": 32,
   "id": "acc01c16",
   "metadata": {},
   "outputs": [],
   "source": [
    "# Define a threshold for what's considered an \"unusual\" increase (e.g., transactions more than 3 standard deviations above the mean)\n",
    "UNUSUAL_INCREASE_THRESHOLD = 3\n",
    "\n",
    "# Calculate the Z-score of transaction amounts using 'NormalizedAmount'\n",
    "transformed_data['AmountZScore'] = transformed_data['NormalizedAmount']\n",
    "\n",
    "# Create a binary flag for unusual increases in transaction amount\n",
    "transformed_data['UnusualIncrease'] = transformed_data['AmountZScore'].apply(lambda x: 1 if x > UNUSUAL_INCREASE_THRESHOLD else 0)"
   ]
  },
  {
   "cell_type": "code",
   "execution_count": 33,
   "id": "e65dde25",
   "metadata": {},
   "outputs": [],
   "source": [
    "# Dropping the original 'Amount' feature\n",
    "transformed_data = transformed_data.drop(['Amount'], axis=1)"
   ]
  },
  {
   "cell_type": "markdown",
   "id": "5c783953",
   "metadata": {},
   "source": [
    "# Rule 2: Multiple Failed Login Attempts"
   ]
  },
  {
   "cell_type": "code",
   "execution_count": 34,
   "id": "b29238aa",
   "metadata": {},
   "outputs": [],
   "source": [
    "# Mock calculation of 'FailedLoginAttempts' - replace with your actual logic\n",
    "# For demonstration, assuming each row has 5 failed login attempts initially\n",
    "transformed_data['FailedLoginAttempts'] = 5  # Replace 0 with actual calculation if needed"
   ]
  },
  {
   "cell_type": "code",
   "execution_count": 35,
   "id": "e249ddd7",
   "metadata": {},
   "outputs": [],
   "source": [
    "# Define a threshold for what's considered too many failed attempts\n",
    "TOO_MANY_FAILED_ATTEMPTS = 5\n",
    "\n",
    "# Assuming 'FailedLoginAttempts' is now a valid column in transformed_data\n",
    "transformed_data['MultipleFailedLogins'] = transformed_data['FailedLoginAttempts'].apply(lambda x: 1 if x >= TOO_MANY_FAILED_ATTEMPTS else 0)\n",
    "\n"
   ]
  },
  {
   "cell_type": "markdown",
   "id": "20337f00",
   "metadata": {},
   "source": [
    "# Rule 3 : High Transaction Amount During Night Hours"
   ]
  },
  {
   "cell_type": "code",
   "execution_count": 36,
   "id": "45eb8e81",
   "metadata": {},
   "outputs": [],
   "source": [
    "# Example logic for defining 'IsNight' column\n",
    "# Assuming 'HourOfDay' column exists and represents the hour of the transaction\n",
    "# Assuming 'Time' column exists and represents time in seconds since a starting point\n",
    "# Calculate 'HourOfDay' assuming 'Time' is in seconds (convert it to hours and get the hour part)\n",
    "transformed_data['HourOfDay'] = (transformed_data['Time'] / 3600) % 24\n",
    "\n",
    "# Now assuming 'HourOfDay' exists, define 'IsNight' based on 'HourOfDay'\n",
    "# Night might be defined as hours between 22 and 6 for example\n",
    "transformed_data['IsNight'] = transformed_data['HourOfDay'].apply(lambda x: 1 if (x >= 22 or x < 6) else 0)"
   ]
  },
  {
   "cell_type": "markdown",
   "id": "27276642",
   "metadata": {},
   "source": [
    "###### Time-based Features: \n",
    "\n",
    "The 'Time' feature represents the seconds elapsed between each transaction and the first transaction in the dataset. it can be transformed  into more meaningful features, such as:\n",
    "\n",
    "Hour of the Day: It  capture patterns in transaction activity over different times of the day.\n",
    "\n",
    "Day/Night Indicator: Sometimes, transactions during odd hours might have different characteristics.\n",
    "\n",
    "Let's assume that 'Time' = 0 corresponds to midnight and proceed to create these features.  'Hour of the Day' will be feature created along with a binary 'Day/Night' indicator (Assumption night start from 10 PM to 6 AM). ​​\n",
    "\n",
    "\n",
    "HourOfDay: This feature represents the hour of the day \n",
    "\n",
    "IsNight: This binary feature indicates whether the transaction happened during the night (from 10 PM to 6 AM). A value of 1 denotes a nighttime transaction, while 0 indicates daytime.\n"
   ]
  },
  {
   "cell_type": "markdown",
   "id": "b6fc115c",
   "metadata": {},
   "source": [
    "## Model Building:\n",
    "\n"
   ]
  },
  {
   "cell_type": "code",
   "execution_count": 37,
   "id": "a5d5b296",
   "metadata": {},
   "outputs": [],
   "source": [
    "# Import necessary libraries\n",
    "from sklearn.model_selection import train_test_split\n",
    "from sklearn.linear_model import LogisticRegression\n",
    "from sklearn.metrics import accuracy_score, confusion_matrix, classification_report\n",
    "\n",
    "# Now you can use accuracy_score, confusion_matrix, and classification_report in your script without any issues.\n",
    "\n",
    "\n",
    "# Assuming 'data' is your DataFrame and it's already pre-processed\n",
    "X = transformed_data.drop('Class', axis=1)  # Features\n",
    "y = transformed_data['Class']  # Target variable\n",
    "\n",
    "# Split the dataset into the training set and test set\n",
    "X_train_subset, X_test_subset, y_train_subset, y_test_subset = train_test_split(X, y, test_size=0.2, random_state=42)\n",
    "\n",
    "\n"
   ]
  },
  {
   "cell_type": "code",
   "execution_count": 38,
   "id": "a62641c8",
   "metadata": {},
   "outputs": [
    {
     "data": {
      "text/plain": [
       "((22784, 36), (5696, 36), (22784,), (5696,))"
      ]
     },
     "execution_count": 38,
     "metadata": {},
     "output_type": "execute_result"
    }
   ],
   "source": [
    "# Creating a smaller subset while maintaining class distribution using stratification\n",
    "subset_size = 0.1  # using 10% of the data\n",
    "\n",
    "X_subset, _, y_subset, _ = train_test_split(X, y, test_size=1 - subset_size, random_state=42, stratify=y)\n",
    "\n",
    "# Splitting the subset into training (80%) and testing (20%) sets\n",
    "X_train_subset, X_test_subset, y_train_subset, y_test_subset = train_test_split(\n",
    "    X_subset, y_subset, test_size=0.2, random_state=42, stratify=y_subset)\n",
    "\n",
    "# Checking the shape of the training and testing sets of the subset\n",
    "X_train_subset.shape, X_test_subset.shape, y_train_subset.shape, y_test_subset.shape\n"
   ]
  },
  {
   "cell_type": "code",
   "execution_count": 79,
   "id": "21a5f56a",
   "metadata": {},
   "outputs": [
    {
     "name": "stdout",
     "output_type": "stream",
     "text": [
      "Logistic Regression Accuracy: 0.9989466292134831\n",
      "Confusion Matrix for Logistic Regression:\n",
      " [[5685    1]\n",
      " [   5    5]]\n",
      "Classification Report for Logistic Regression:\n",
      "               precision    recall  f1-score   support\n",
      "\n",
      "           0       1.00      1.00      1.00      5686\n",
      "           1       0.83      0.50      0.62        10\n",
      "\n",
      "    accuracy                           1.00      5696\n",
      "   macro avg       0.92      0.75      0.81      5696\n",
      "weighted avg       1.00      1.00      1.00      5696\n",
      "\n"
     ]
    }
   ],
   "source": [
    "logistic_model = LogisticRegression(max_iter=1000, random_state=42)\n",
    "logistic_model.fit(X_train_subset, y_train_subset)\n",
    "\n",
    "# Predicting on the test subset\n",
    "logistic_pred_subset = logistic_model.predict(X_test_subset)\n",
    "\n",
    "# Evaluating the model on the subset\n",
    "logistic_accuracy_subset = accuracy_score(y_test_subset, logistic_pred_subset)\n",
    "logistic_conf_matrix_subset = confusion_matrix(y_test_subset, logistic_pred_subset)\n",
    "logistic_class_report_subset = classification_report(y_test_subset, logistic_pred_subset)\n",
    "\n",
    "\n",
    "print(\"Logistic Regression Accuracy:\", logistic_accuracy_subset)\n",
    "print(\"Confusion Matrix for Logistic Regression:\\n\", logistic_conf_matrix_subset)\n",
    "print(\"Classification Report for Logistic Regression:\\n\", logistic_class_report_subset)"
   ]
  },
  {
   "cell_type": "markdown",
   "id": "d0208ae2",
   "metadata": {},
   "source": [
    "###    Random Forest model"
   ]
  },
  {
   "cell_type": "code",
   "execution_count": 81,
   "id": "04cb0a3f",
   "metadata": {},
   "outputs": [
    {
     "name": "stdout",
     "output_type": "stream",
     "text": [
      "Random Forest Accuracy: 0.999122191011236\n",
      "Confusion Matrix for Random Forest:\n",
      " [[5685    1]\n",
      " [   4    6]]\n",
      "Classification Report for Random Forest:\n",
      "               precision    recall  f1-score   support\n",
      "\n",
      "           0       1.00      1.00      1.00      5686\n",
      "           1       0.86      0.60      0.71        10\n",
      "\n",
      "    accuracy                           1.00      5696\n",
      "   macro avg       0.93      0.80      0.85      5696\n",
      "weighted avg       1.00      1.00      1.00      5696\n",
      "\n"
     ]
    }
   ],
   "source": [
    "from sklearn.ensemble import RandomForestClassifier\n",
    "\n",
    "# Initializing the Random Forest model\n",
    "random_forest_model = RandomForestClassifier(random_state=42)\n",
    "\n",
    "# Training the model on the subset\n",
    "random_forest_model.fit(X_train_subset, y_train_subset)\n",
    "\n",
    "# Predicting on the test subset\n",
    "rf_pred_subset = random_forest_model.predict(X_test_subset)\n",
    "\n",
    "# Evaluating the model on the subset\n",
    "rf_accuracy_subset = accuracy_score(y_test_subset, rf_pred_subset)\n",
    "rf_conf_matrix_subset = confusion_matrix(y_test_subset, rf_pred_subset)\n",
    "rf_class_report_subset = classification_report(y_test_subset, rf_pred_subset)\n",
    "\n",
    "\n",
    "\n",
    "print(\"Random Forest Accuracy:\", rf_accuracy_subset)\n",
    "print(\"Confusion Matrix for Random Forest:\\n\", rf_conf_matrix_subset)\n",
    "print(\"Classification Report for Random Forest:\\n\",  rf_class_report_subset)"
   ]
  },
  {
   "cell_type": "markdown",
   "id": "078b3b83",
   "metadata": {},
   "source": [
    "##  Gradient Boosting"
   ]
  },
  {
   "cell_type": "code",
   "execution_count": 82,
   "id": "2b426a5e",
   "metadata": {},
   "outputs": [
    {
     "name": "stdout",
     "output_type": "stream",
     "text": [
      "Gradient Boosting Accuracy: 0.9989466292134831\n",
      "Confusion Matrix for Gradient Boosting:\n",
      " [[5681    5]\n",
      " [   1    9]]\n",
      "Classification Report for Gradient Boosting:\n",
      "               precision    recall  f1-score   support\n",
      "\n",
      "           0       1.00      1.00      1.00      5686\n",
      "           1       0.64      0.90      0.75        10\n",
      "\n",
      "    accuracy                           1.00      5696\n",
      "   macro avg       0.82      0.95      0.87      5696\n",
      "weighted avg       1.00      1.00      1.00      5696\n",
      "\n"
     ]
    }
   ],
   "source": [
    "from sklearn.ensemble import GradientBoostingClassifier\n",
    "\n",
    "# Initializing the Gradient Boosting model\n",
    "gradient_boosting_model = GradientBoostingClassifier(random_state=42)\n",
    "\n",
    "# Training the model on the subset\n",
    "gradient_boosting_model.fit(X_train_subset, y_train_subset)\n",
    "\n",
    "# Predicting on the test subset\n",
    "gb_pred_subset = gradient_boosting_model.predict(X_test_subset)\n",
    "\n",
    "# Evaluating the model on the subset\n",
    "gb_accuracy_subset = accuracy_score(y_test_subset, gb_pred_subset)\n",
    "gb_conf_matrix_subset = confusion_matrix(y_test_subset, gb_pred_subset)\n",
    "gb_class_report_subset = classification_report(y_test_subset, gb_pred_subset)\n",
    "\n",
    "\n",
    "\n",
    "print(\"Gradient Boosting Accuracy:\", gb_accuracy_subset)\n",
    "print(\"Confusion Matrix for Gradient Boosting:\\n\", gb_conf_matrix_subset)\n",
    "print(\"Classification Report for Gradient Boosting:\\n\",  gb_class_report_subset)"
   ]
  },
  {
   "cell_type": "markdown",
   "id": "fa6c8bc6",
   "metadata": {},
   "source": [
    "##  SVM model"
   ]
  },
  {
   "cell_type": "code",
   "execution_count": 83,
   "id": "66b87d8d",
   "metadata": {},
   "outputs": [
    {
     "name": "stdout",
     "output_type": "stream",
     "text": [
      "SVM model Accuracy: 0.9982443820224719\n",
      "Confusion Matrix for SVM model:\n",
      " [[5686    0]\n",
      " [  10    0]]\n",
      "Classification Report for SVM model:\n",
      "               precision    recall  f1-score   support\n",
      "\n",
      "           0       1.00      1.00      1.00      5686\n",
      "           1       0.00      0.00      0.00        10\n",
      "\n",
      "    accuracy                           1.00      5696\n",
      "   macro avg       0.50      0.50      0.50      5696\n",
      "weighted avg       1.00      1.00      1.00      5696\n",
      "\n"
     ]
    },
    {
     "name": "stderr",
     "output_type": "stream",
     "text": [
      "C:\\Users\\chris\\anaconda3\\Lib\\site-packages\\sklearn\\metrics\\_classification.py:1469: UndefinedMetricWarning: Precision and F-score are ill-defined and being set to 0.0 in labels with no predicted samples. Use `zero_division` parameter to control this behavior.\n",
      "  _warn_prf(average, modifier, msg_start, len(result))\n",
      "C:\\Users\\chris\\anaconda3\\Lib\\site-packages\\sklearn\\metrics\\_classification.py:1469: UndefinedMetricWarning: Precision and F-score are ill-defined and being set to 0.0 in labels with no predicted samples. Use `zero_division` parameter to control this behavior.\n",
      "  _warn_prf(average, modifier, msg_start, len(result))\n",
      "C:\\Users\\chris\\anaconda3\\Lib\\site-packages\\sklearn\\metrics\\_classification.py:1469: UndefinedMetricWarning: Precision and F-score are ill-defined and being set to 0.0 in labels with no predicted samples. Use `zero_division` parameter to control this behavior.\n",
      "  _warn_prf(average, modifier, msg_start, len(result))\n"
     ]
    }
   ],
   "source": [
    "from sklearn.svm import SVC\n",
    "\n",
    "# Initializing the SVM model\n",
    "svm_model = SVC(kernel='rbf', random_state=42)\n",
    "\n",
    "# Training the model on the subset\n",
    "svm_model.fit(X_train_subset, y_train_subset)\n",
    "\n",
    "# Predicting on the test subset\n",
    "svm_pred_subset = svm_model.predict(X_test_subset)\n",
    "\n",
    "# Evaluating the model on the subset\n",
    "svm_accuracy_subset = accuracy_score(y_test_subset, svm_pred_subset)\n",
    "svm_conf_matrix_subset = confusion_matrix(y_test_subset, svm_pred_subset)\n",
    "svm_class_report_subset = classification_report(y_test_subset, svm_pred_subset)\n",
    "\n",
    "\n",
    "\n",
    "print(\"SVM model Accuracy:\", svm_accuracy_subset)\n",
    "print(\"Confusion Matrix for SVM model:\\n\", svm_conf_matrix_subset)\n",
    "print(\"Classification Report for SVM model:\\n\",  svm_class_report_subset)\n"
   ]
  },
  {
   "cell_type": "markdown",
   "id": "6c83b86b",
   "metadata": {},
   "source": [
    "##  Decision Tree model"
   ]
  },
  {
   "cell_type": "code",
   "execution_count": 84,
   "id": "7846f65b",
   "metadata": {},
   "outputs": [
    {
     "name": "stdout",
     "output_type": "stream",
     "text": [
      " Decision Tree Accuracy: 0.9989466292134831\n",
      "Confusion Matrix for  Decision Tree:\n",
      " [[5684    2]\n",
      " [   4    6]]\n",
      "Classification Report for  Decision Tree:\n",
      "               precision    recall  f1-score   support\n",
      "\n",
      "           0       1.00      1.00      1.00      5686\n",
      "           1       0.75      0.60      0.67        10\n",
      "\n",
      "    accuracy                           1.00      5696\n",
      "   macro avg       0.87      0.80      0.83      5696\n",
      "weighted avg       1.00      1.00      1.00      5696\n",
      "\n"
     ]
    }
   ],
   "source": [
    "from sklearn.tree import DecisionTreeClassifier\n",
    "\n",
    "# Initializing the Decision Tree model\n",
    "decision_tree_model = DecisionTreeClassifier(random_state=42)\n",
    "\n",
    "# Training the model on the subset\n",
    "decision_tree_model.fit(X_train_subset, y_train_subset)\n",
    "\n",
    "# Predicting on the test subset\n",
    "dt_pred_subset = decision_tree_model.predict(X_test_subset)\n",
    "\n",
    "# Evaluating the model on the subset\n",
    "dt_accuracy_subset = accuracy_score(y_test_subset, dt_pred_subset)\n",
    "dt_conf_matrix_subset = confusion_matrix(y_test_subset, dt_pred_subset)\n",
    "dt_class_report_subset = classification_report(y_test_subset, dt_pred_subset)\n",
    "\n",
    "\n",
    "print(\" Decision Tree Accuracy:\", dt_accuracy_subset)\n",
    "print(\"Confusion Matrix for  Decision Tree:\\n\", dt_conf_matrix_subset)\n",
    "print(\"Classification Report for  Decision Tree:\\n\", dt_class_report_subset)\n"
   ]
  },
  {
   "cell_type": "markdown",
   "id": "3c8353f3",
   "metadata": {},
   "source": [
    "# visualizations to compare the performance of these models. We will plot bar charts for accuracy, precision, recall, and F1 score for the positive class (class 1, which indicates fraud)."
   ]
  },
  {
   "cell_type": "code",
   "execution_count": 114,
   "id": "02777f38",
   "metadata": {},
   "outputs": [
    {
     "data": {
      "image/png": "[encoded data removed]",
      "text/plain": [
       "<Figure size 1500x700 with 1 Axes>"
      ]
     },
     "metadata": {},
     "output_type": "display_data"
    }
   ],
   "source": [
    "import matplotlib.pyplot as plt\n",
    "import numpy as np\n",
    "\n",
    "\n",
    "# List of models\n",
    "models = ['Logistic Regression', 'Random Forest', 'Gradient Boosting', 'SVM', 'Decision Tree']\n",
    "\n",
    "# Performance metrics for each model\n",
    "accuracy_scores = [0.9989, 0.9991, 0.9989, 0.9982, 0.9989]\n",
    "precision_scores = [0.83, 0.86, 0.64, 0.00, 0.75]\n",
    "recall_scores = [0.50, 0.60, 0.90, 0.00, 0.60]\n",
    "f1_scores = [0.62, 0.71, 0.75, 0.00, 0.67]\n",
    "\n",
    "\n",
    "\n",
    "# Setting the positions and width for the bars\n",
    "positions = np.arange(len(models))\n",
    "width = 0.15\n",
    "\n",
    "# Plotting\n",
    "plt.figure(figsize=(15, 7))\n",
    "\n",
    "plt.bar(positions - width*2, accuracy_scores, width, label='Accuracy')\n",
    "plt.bar(positions - width, precision_scores, width, label='Precision (Class 1)')\n",
    "plt.bar(positions, recall_scores, width, label='Recall (Class 1)')\n",
    "plt.bar(positions + width, f1_scores, width, label='F1 Score (Class 1)')\n",
    "\n",
    "plt.xlabel('Models')\n",
    "plt.ylabel('Scores')\n",
    "plt.title('Comparison of Model Performance')\n",
    "plt.xticks(positions, models)\n",
    "plt.legend()\n",
    "plt.show()\n"
   ]
  },
  {
   "cell_type": "code",
   "execution_count": 91,
   "id": "cc317141",
   "metadata": {},
   "outputs": [],
   "source": [
    "# pip install --upgrade scikit-learn\n"
   ]
  },
  {
   "cell_type": "markdown",
   "id": "7d0bd047",
   "metadata": {},
   "source": [
    "# Random_forest_model confusion matrix"
   ]
  },
  {
   "cell_type": "code",
   "execution_count": 120,
   "id": "631ed209",
   "metadata": {},
   "outputs": [
    {
     "data": {
      "image/png": "[encoded data removed]",
      "text/plain": [
       "<Figure size 640x480 with 2 Axes>"
      ]
     },
     "metadata": {},
     "output_type": "display_data"
    }
   ],
   "source": [
    "\n",
    "from sklearn.metrics import confusion_matrix\n",
    "import seaborn as sns\n",
    "\n",
    "# Assume 'model' is your trained model and 'X_test', 'y_test' are your test datasets\n",
    "y_pred = random_forest_model.predict(X_test_subset)\n",
    "cm = confusion_matrix(y_test_subset, y_pred)\n",
    "sns.heatmap(cm, annot=True, fmt='d')\n",
    "plt.title('Confusion Matrix')\n",
    "plt.ylabel('Actual Label')\n",
    "plt.xlabel('Predicted Label')\n",
    "plt.show()\n"
   ]
  },
  {
   "cell_type": "markdown",
   "id": "df12724d",
   "metadata": {},
   "source": [
    "#  Visualize the ROC Curve Random forest model"
   ]
  },
  {
   "cell_type": "code",
   "execution_count": 121,
   "id": "40168ad8",
   "metadata": {},
   "outputs": [
    {
     "data": {
      "image/png": "[encoded data removed]",
      "text/plain": [
       "<Figure size 640x480 with 1 Axes>"
      ]
     },
     "metadata": {},
     "output_type": "display_data"
    }
   ],
   "source": [
    "from sklearn.metrics import roc_curve, auc\n",
    "\n",
    "# Calculate the ROC curve points\n",
    "fpr, tpr, thresholds = roc_curve(y_test_subset, random_forest_model.predict_proba(X_test_subset)[:,1])\n",
    "roc_auc = auc(fpr, tpr)\n",
    "\n",
    "# Plot the ROC curve\n",
    "plt.figure()\n",
    "plt.plot(fpr, tpr, color='darkorange', lw=2, label='ROC curve (area = %0.2f)' % roc_auc)\n",
    "plt.plot([0, 1], [0, 1], color='navy', lw=2, linestyle='--')\n",
    "plt.xlim([0.0, 1.0])\n",
    "plt.ylim([0.0, 1.05])\n",
    "plt.xlabel('False Positive Rate')\n",
    "plt.ylabel('True Positive Rate')\n",
    "plt.title('Receiver Operating Characteristic')\n",
    "plt.legend(loc=\"lower right\")\n",
    "plt.show()\n"
   ]
  },
  {
   "cell_type": "code",
   "execution_count": 123,
   "id": "c16b6d03",
   "metadata": {},
   "outputs": [
    {
     "ename": "ImportError",
     "evalue": "cannot import name 'plot_precision_recall_curve' from 'sklearn.metrics' (C:\\Users\\chris\\anaconda3\\Lib\\site-packages\\sklearn\\metrics\\__init__.py)",
     "output_type": "error",
     "traceback": [
      "\u001b[1;31m---------------------------------------------------------------------------\u001b[0m",
      "\u001b[1;31mImportError\u001b[0m                               Traceback (most recent call last)",
      "Cell \u001b[1;32mIn[123], line 2\u001b[0m\n\u001b[0;32m      1\u001b[0m \u001b[38;5;28;01mfrom\u001b[39;00m \u001b[38;5;21;01msklearn\u001b[39;00m\u001b[38;5;21;01m.\u001b[39;00m\u001b[38;5;21;01mmetrics\u001b[39;00m \u001b[38;5;28;01mimport\u001b[39;00m precision_recall_curve\n\u001b[1;32m----> 2\u001b[0m \u001b[38;5;28;01mfrom\u001b[39;00m \u001b[38;5;21;01msklearn\u001b[39;00m\u001b[38;5;21;01m.\u001b[39;00m\u001b[38;5;21;01mmetrics\u001b[39;00m \u001b[38;5;28;01mimport\u001b[39;00m plot_precision_recall_curve\n\u001b[0;32m      4\u001b[0m \u001b[38;5;66;03m# Similarly, for precision-recall curve\u001b[39;00m\n\u001b[0;32m      5\u001b[0m \u001b[38;5;28;01mfor\u001b[39;00m model \u001b[38;5;129;01min\u001b[39;00m models:\n",
      "\u001b[1;31mImportError\u001b[0m: cannot import name 'plot_precision_recall_curve' from 'sklearn.metrics' (C:\\Users\\chris\\anaconda3\\Lib\\site-packages\\sklearn\\metrics\\__init__.py)"
     ]
    }
   ],
   "source": [
    "from sklearn.metrics import precision_recall_curve\n",
    "from sklearn.metrics import plot_precision_recall_curve\n",
    "\n",
    "# Similarly, for precision-recall curve\n",
    "for model in models:\n",
    "    plot_precision_recall_curve(random_forest_model, X_test_subset, y_test_subset)\n",
    "    plt.title(f'Precision-Recall Curve for {random_forest_model}')\n",
    "plt.show()\n"
   ]
  },
  {
   "cell_type": "markdown",
   "id": "8d7f97fd",
   "metadata": {},
   "source": [
    "# Hyperparameter : RandomizedSearchCV"
   ]
  },
  {
   "cell_type": "code",
   "execution_count": 55,
   "id": "191f0991",
   "metadata": {},
   "outputs": [],
   "source": [
    "from sklearn.model_selection import train_test_split\n",
    "from sklearn.metrics import accuracy_score, classification_report, confusion_matrix\n",
    "from sklearn.ensemble import GradientBoostingClassifier\n",
    "from sklearn.model_selection import RandomizedSearchCV\n",
    "from sklearn.linear_model import LogisticRegression\n",
    "from sklearn.ensemble import RandomForestClassifier\n",
    "from sklearn.svm import SVC\n",
    "from sklearn.tree import DecisionTreeClassifier\n",
    "from scipy.stats import uniform, randint\n",
    "\n",
    "\n"
   ]
  },
  {
   "cell_type": "code",
   "execution_count": 56,
   "id": "856c1477",
   "metadata": {},
   "outputs": [],
   "source": [
    "n_iter_search = 5  # You can adjust this number as needed\n"
   ]
  },
  {
   "cell_type": "markdown",
   "id": "3e16d32e",
   "metadata": {},
   "source": [
    "# Logistic Regression"
   ]
  },
  {
   "cell_type": "code",
   "execution_count": 57,
   "id": "39cf556d",
   "metadata": {},
   "outputs": [],
   "source": [
    "\n",
    "\n",
    "# Logistic Regression parameters and RandomizedSearchCV setup\n",
    "logistic_params = {\n",
    "    'C': uniform(0.001, 100),\n",
    "    'penalty': ['l1', 'l2']\n",
    "}\n",
    "\n",
    "logistic_random_search = RandomizedSearchCV(\n",
    "    LogisticRegression(solver='liblinear'),\n",
    "    param_distributions=logistic_params,\n",
    "    n_iter=n_iter_search,\n",
    "    cv=5,\n",
    "    scoring='accuracy',\n",
    "    random_state=42,\n",
    "    verbose=1\n",
    ")\n"
   ]
  },
  {
   "cell_type": "code",
   "execution_count": 58,
   "id": "a8faabc5",
   "metadata": {},
   "outputs": [
    {
     "name": "stdout",
     "output_type": "stream",
     "text": [
      "Fitting 5 folds for each of 5 candidates, totalling 25 fits\n"
     ]
    }
   ],
   "source": [
    "# Fit the Logistic Regression model with RandomizedSearchCV\n",
    "logistic_random_search.fit(X_train_subset, y_train_subset)\n",
    "\n",
    "# Get the best Logistic Regression model\n",
    "best_logistic_model = logistic_random_search.best_estimator_"
   ]
  },
  {
   "cell_type": "code",
   "execution_count": 60,
   "id": "f1079cad",
   "metadata": {},
   "outputs": [],
   "source": [
    "# Evaluate the best models on the test data\n",
    "logistic_pred = best_logistic_model.predict(X_test_subset)\n",
    "logistic_accuracy = accuracy_score(y_test_subset, logistic_pred)\n",
    "logistic_conf_matrix = confusion_matrix(y_test_subset, logistic_pred)\n",
    "logistic_class_report = classification_report(y_test_subset, logistic_pred)"
   ]
  },
  {
   "cell_type": "code",
   "execution_count": 61,
   "id": "82095c12",
   "metadata": {},
   "outputs": [
    {
     "name": "stdout",
     "output_type": "stream",
     "text": [
      "Logistic Regression Accuracy: 0.9987710674157303\n",
      "Confusion Matrix for Logistic Regression:\n",
      " [[5685    1]\n",
      " [   6    4]]\n",
      "Classification Report for Logistic Regression:\n",
      "               precision    recall  f1-score   support\n",
      "\n",
      "           0       1.00      1.00      1.00      5686\n",
      "           1       0.80      0.40      0.53        10\n",
      "\n",
      "    accuracy                           1.00      5696\n",
      "   macro avg       0.90      0.70      0.77      5696\n",
      "weighted avg       1.00      1.00      1.00      5696\n",
      "\n"
     ]
    }
   ],
   "source": [
    "print(\"Logistic Regression Accuracy:\", logistic_accuracy)\n",
    "print(\"Confusion Matrix for Logistic Regression:\\n\", logistic_conf_matrix)\n",
    "print(\"Classification Report for Logistic Regression:\\n\", logistic_class_report)"
   ]
  },
  {
   "cell_type": "markdown",
   "id": "f6cd7f89",
   "metadata": {},
   "source": [
    "#  Random Forest model\n"
   ]
  },
  {
   "cell_type": "code",
   "execution_count": 62,
   "id": "5554c956",
   "metadata": {},
   "outputs": [],
   "source": [
    "random_forest_params = {\n",
    "    'n_estimators': [50, 100],  # Reduced number of options\n",
    "    'max_depth': [None] + list(randint(10, 30).rvs(3)),  # Reduced range and values\n",
    "    'min_samples_split': [2, 5],  # Reduced options\n",
    "    'min_samples_leaf': [1, 3]  # Reduced options\n",
    "}\n",
    "\n",
    "\n"
   ]
  },
  {
   "cell_type": "code",
   "execution_count": 63,
   "id": "1aaba067",
   "metadata": {},
   "outputs": [],
   "source": [
    "\n",
    "\n",
    "random_forest_search = RandomizedSearchCV(\n",
    "    RandomForestClassifier(),\n",
    "    param_distributions=random_forest_params,\n",
    "    n_iter=n_iter_search,\n",
    "    cv=5,\n",
    "    scoring='accuracy',\n",
    "    random_state=42,\n",
    "    verbose=1\n",
    ")"
   ]
  },
  {
   "cell_type": "code",
   "execution_count": 64,
   "id": "93a79201",
   "metadata": {},
   "outputs": [
    {
     "name": "stdout",
     "output_type": "stream",
     "text": [
      "Fitting 5 folds for each of 5 candidates, totalling 25 fits\n"
     ]
    },
    {
     "data": {
      "text/html": [
       "<style>#sk-container-id-1 {color: black;}#sk-container-id-1 pre{padding: 0;}#sk-container-id-1 div.sk-toggleable {background-color: white;}#sk-container-id-1 label.sk-toggleable__label {cursor: pointer;display: block;width: 100%;margin-bottom: 0;padding: 0.3em;box-sizing: border-box;text-align: center;}#sk-container-id-1 label.sk-toggleable__label-arrow:before {content: \"▸\";float: left;margin-right: 0.25em;color: #696969;}#sk-container-id-1 label.sk-toggleable__label-arrow:hover:before {color: black;}#sk-container-id-1 div.sk-estimator:hover label.sk-toggleable__label-arrow:before {color: black;}#sk-container-id-1 div.sk-toggleable__content {max-height: 0;max-width: 0;overflow: hidden;text-align: left;background-color: #f0f8ff;}#sk-container-id-1 div.sk-toggleable__content pre {margin: 0.2em;color: black;border-radius: 0.25em;background-color: #f0f8ff;}#sk-container-id-1 input.sk-toggleable__control:checked~div.sk-toggleable__content {max-height: 200px;max-width: 100%;overflow: auto;}#sk-container-id-1 input.sk-toggleable__control:checked~label.sk-toggleable__label-arrow:before {content: \"▾\";}#sk-container-id-1 div.sk-estimator input.sk-toggleable__control:checked~label.sk-toggleable__label {background-color: #d4ebff;}#sk-container-id-1 div.sk-label input.sk-toggleable__control:checked~label.sk-toggleable__label {background-color: #d4ebff;}#sk-container-id-1 input.sk-hidden--visually {border: 0;clip: rect(1px 1px 1px 1px);clip: rect(1px, 1px, 1px, 1px);height: 1px;margin: -1px;overflow: hidden;padding: 0;position: absolute;width: 1px;}#sk-container-id-1 div.sk-estimator {font-family: monospace;background-color: #f0f8ff;border: 1px dotted black;border-radius: 0.25em;box-sizing: border-box;margin-bottom: 0.5em;}#sk-container-id-1 div.sk-estimator:hover {background-color: #d4ebff;}#sk-container-id-1 div.sk-parallel-item::after {content: \"\";width: 100%;border-bottom: 1px solid gray;flex-grow: 1;}#sk-container-id-1 div.sk-label:hover label.sk-toggleable__label {background-color: #d4ebff;}#sk-container-id-1 div.sk-serial::before {content: \"\";position: absolute;border-left: 1px solid gray;box-sizing: border-box;top: 0;bottom: 0;left: 50%;z-index: 0;}#sk-container-id-1 div.sk-serial {display: flex;flex-direction: column;align-items: center;background-color: white;padding-right: 0.2em;padding-left: 0.2em;position: relative;}#sk-container-id-1 div.sk-item {position: relative;z-index: 1;}#sk-container-id-1 div.sk-parallel {display: flex;align-items: stretch;justify-content: center;background-color: white;position: relative;}#sk-container-id-1 div.sk-item::before, #sk-container-id-1 div.sk-parallel-item::before {content: \"\";position: absolute;border-left: 1px solid gray;box-sizing: border-box;top: 0;bottom: 0;left: 50%;z-index: -1;}#sk-container-id-1 div.sk-parallel-item {display: flex;flex-direction: column;z-index: 1;position: relative;background-color: white;}#sk-container-id-1 div.sk-parallel-item:first-child::after {align-self: flex-end;width: 50%;}#sk-container-id-1 div.sk-parallel-item:last-child::after {align-self: flex-start;width: 50%;}#sk-container-id-1 div.sk-parallel-item:only-child::after {width: 0;}#sk-container-id-1 div.sk-dashed-wrapped {border: 1px dashed gray;margin: 0 0.4em 0.5em 0.4em;box-sizing: border-box;padding-bottom: 0.4em;background-color: white;}#sk-container-id-1 div.sk-label label {font-family: monospace;font-weight: bold;display: inline-block;line-height: 1.2em;}#sk-container-id-1 div.sk-label-container {text-align: center;}#sk-container-id-1 div.sk-container {/* jupyter's `normalize.less` sets `[hidden] { display: none; }` but bootstrap.min.css set `[hidden] { display: none !important; }` so we also need the `!important` here to be able to override the default hidden behavior on the sphinx rendered scikit-learn.org. See: https://github.com/scikit-learn/scikit-learn/issues/21755 */display: inline-block !important;position: relative;}#sk-container-id-1 div.sk-text-repr-fallback {display: none;}</style><div id=\"sk-container-id-1\" class=\"sk-top-container\"><div class=\"sk-text-repr-fallback\"><pre>RandomizedSearchCV(cv=5, estimator=RandomForestClassifier(), n_iter=5,\n",
       "                   param_distributions={&#x27;max_depth&#x27;: [None, 26, 18, 20],\n",
       "                                        &#x27;min_samples_leaf&#x27;: [1, 3],\n",
       "                                        &#x27;min_samples_split&#x27;: [2, 5],\n",
       "                                        &#x27;n_estimators&#x27;: [50, 100]},\n",
       "                   random_state=42, scoring=&#x27;accuracy&#x27;, verbose=1)</pre><b>In a Jupyter environment, please rerun this cell to show the HTML representation or trust the notebook. <br />On GitHub, the HTML representation is unable to render, please try loading this page with nbviewer.org.</b></div><div class=\"sk-container\" hidden><div class=\"sk-item sk-dashed-wrapped\"><div class=\"sk-label-container\"><div class=\"sk-label sk-toggleable\"><input class=\"sk-toggleable__control sk-hidden--visually\" id=\"sk-estimator-id-1\" type=\"checkbox\" ><label for=\"sk-estimator-id-1\" class=\"sk-toggleable__label sk-toggleable__label-arrow\">RandomizedSearchCV</label><div class=\"sk-toggleable__content\"><pre>RandomizedSearchCV(cv=5, estimator=RandomForestClassifier(), n_iter=5,\n",
       "                   param_distributions={&#x27;max_depth&#x27;: [None, 26, 18, 20],\n",
       "                                        &#x27;min_samples_leaf&#x27;: [1, 3],\n",
       "                                        &#x27;min_samples_split&#x27;: [2, 5],\n",
       "                                        &#x27;n_estimators&#x27;: [50, 100]},\n",
       "                   random_state=42, scoring=&#x27;accuracy&#x27;, verbose=1)</pre></div></div></div><div class=\"sk-parallel\"><div class=\"sk-parallel-item\"><div class=\"sk-item\"><div class=\"sk-label-container\"><div class=\"sk-label sk-toggleable\"><input class=\"sk-toggleable__control sk-hidden--visually\" id=\"sk-estimator-id-2\" type=\"checkbox\" ><label for=\"sk-estimator-id-2\" class=\"sk-toggleable__label sk-toggleable__label-arrow\">estimator: RandomForestClassifier</label><div class=\"sk-toggleable__content\"><pre>RandomForestClassifier()</pre></div></div></div><div class=\"sk-serial\"><div class=\"sk-item\"><div class=\"sk-estimator sk-toggleable\"><input class=\"sk-toggleable__control sk-hidden--visually\" id=\"sk-estimator-id-3\" type=\"checkbox\" ><label for=\"sk-estimator-id-3\" class=\"sk-toggleable__label sk-toggleable__label-arrow\">RandomForestClassifier</label><div class=\"sk-toggleable__content\"><pre>RandomForestClassifier()</pre></div></div></div></div></div></div></div></div></div></div>"
      ],
      "text/plain": [
       "RandomizedSearchCV(cv=5, estimator=RandomForestClassifier(), n_iter=5,\n",
       "                   param_distributions={'max_depth': [None, 26, 18, 20],\n",
       "                                        'min_samples_leaf': [1, 3],\n",
       "                                        'min_samples_split': [2, 5],\n",
       "                                        'n_estimators': [50, 100]},\n",
       "                   random_state=42, scoring='accuracy', verbose=1)"
      ]
     },
     "execution_count": 64,
     "metadata": {},
     "output_type": "execute_result"
    }
   ],
   "source": [
    "\n",
    "# Fit the Random Forest model with RandomizedSearchCV\n",
    "random_forest_search.fit(X_train_subset, y_train_subset)"
   ]
  },
  {
   "cell_type": "code",
   "execution_count": 65,
   "id": "0126dd42",
   "metadata": {},
   "outputs": [],
   "source": [
    "# Get the best Random Forest model\n",
    "best_random_forest_model = random_forest_search.best_estimator_"
   ]
  },
  {
   "cell_type": "code",
   "execution_count": 66,
   "id": "788ad472",
   "metadata": {},
   "outputs": [],
   "source": [
    "random_forest_pred = best_random_forest_model.predict(X_test_subset)\n",
    "random_forest_accuracy = accuracy_score(y_test_subset, random_forest_pred)\n",
    "random_forest_conf_matrix = confusion_matrix(y_test_subset, random_forest_pred)\n",
    "random_forest_class_report = classification_report(y_test_subset, random_forest_pred)"
   ]
  },
  {
   "cell_type": "code",
   "execution_count": 67,
   "id": "2d84e70e",
   "metadata": {},
   "outputs": [
    {
     "name": "stdout",
     "output_type": "stream",
     "text": [
      "Random Forest Accuracy: 0.999122191011236\n",
      "Confusion Matrix for Random Forest:\n",
      " [[5685    1]\n",
      " [   4    6]]\n",
      "Classification Report for Random Forest:\n",
      "               precision    recall  f1-score   support\n",
      "\n",
      "           0       1.00      1.00      1.00      5686\n",
      "           1       0.86      0.60      0.71        10\n",
      "\n",
      "    accuracy                           1.00      5696\n",
      "   macro avg       0.93      0.80      0.85      5696\n",
      "weighted avg       1.00      1.00      1.00      5696\n",
      "\n"
     ]
    }
   ],
   "source": [
    "print(\"Random Forest Accuracy:\", random_forest_accuracy)\n",
    "print(\"Confusion Matrix for Random Forest:\\n\", random_forest_conf_matrix)\n",
    "print(\"Classification Report for Random Forest:\\n\", random_forest_class_report)\n"
   ]
  },
  {
   "cell_type": "markdown",
   "id": "803b2b8d",
   "metadata": {},
   "source": [
    "# Decision Tree"
   ]
  },
  {
   "cell_type": "code",
   "execution_count": 68,
   "id": "89dc9d84",
   "metadata": {},
   "outputs": [],
   "source": [
    "\n",
    "\n",
    "# Decision Tree parameters and RandomizedSearchCV setup\n",
    "decision_tree_params = {\n",
    "    'max_depth': [None] + list(randint(10, 20).rvs(3)),  # Reduced range and smaller values\n",
    "    'min_samples_split': randint(2, 6),  # Reduced range\n",
    "    'min_samples_leaf': randint(1, 3)  # Reduced range\n",
    "}\n",
    "\n",
    "decision_tree_search = RandomizedSearchCV(\n",
    "    DecisionTreeClassifier(),\n",
    "    param_distributions=decision_tree_params,\n",
    "    n_iter=n_iter_search,\n",
    "    cv=5,\n",
    "    scoring='accuracy',\n",
    "    random_state=42,\n",
    "    verbose=1,\n",
    "    n_jobs=-1  # Utilize all available CPU cores\n",
    ")\n"
   ]
  },
  {
   "cell_type": "code",
   "execution_count": 69,
   "id": "d19be9f7",
   "metadata": {},
   "outputs": [
    {
     "name": "stdout",
     "output_type": "stream",
     "text": [
      "Fitting 5 folds for each of 5 candidates, totalling 25 fits\n"
     ]
    },
    {
     "data": {
      "text/html": [
       "<style>#sk-container-id-2 {color: black;}#sk-container-id-2 pre{padding: 0;}#sk-container-id-2 div.sk-toggleable {background-color: white;}#sk-container-id-2 label.sk-toggleable__label {cursor: pointer;display: block;width: 100%;margin-bottom: 0;padding: 0.3em;box-sizing: border-box;text-align: center;}#sk-container-id-2 label.sk-toggleable__label-arrow:before {content: \"▸\";float: left;margin-right: 0.25em;color: #696969;}#sk-container-id-2 label.sk-toggleable__label-arrow:hover:before {color: black;}#sk-container-id-2 div.sk-estimator:hover label.sk-toggleable__label-arrow:before {color: black;}#sk-container-id-2 div.sk-toggleable__content {max-height: 0;max-width: 0;overflow: hidden;text-align: left;background-color: #f0f8ff;}#sk-container-id-2 div.sk-toggleable__content pre {margin: 0.2em;color: black;border-radius: 0.25em;background-color: #f0f8ff;}#sk-container-id-2 input.sk-toggleable__control:checked~div.sk-toggleable__content {max-height: 200px;max-width: 100%;overflow: auto;}#sk-container-id-2 input.sk-toggleable__control:checked~label.sk-toggleable__label-arrow:before {content: \"▾\";}#sk-container-id-2 div.sk-estimator input.sk-toggleable__control:checked~label.sk-toggleable__label {background-color: #d4ebff;}#sk-container-id-2 div.sk-label input.sk-toggleable__control:checked~label.sk-toggleable__label {background-color: #d4ebff;}#sk-container-id-2 input.sk-hidden--visually {border: 0;clip: rect(1px 1px 1px 1px);clip: rect(1px, 1px, 1px, 1px);height: 1px;margin: -1px;overflow: hidden;padding: 0;position: absolute;width: 1px;}#sk-container-id-2 div.sk-estimator {font-family: monospace;background-color: #f0f8ff;border: 1px dotted black;border-radius: 0.25em;box-sizing: border-box;margin-bottom: 0.5em;}#sk-container-id-2 div.sk-estimator:hover {background-color: #d4ebff;}#sk-container-id-2 div.sk-parallel-item::after {content: \"\";width: 100%;border-bottom: 1px solid gray;flex-grow: 1;}#sk-container-id-2 div.sk-label:hover label.sk-toggleable__label {background-color: #d4ebff;}#sk-container-id-2 div.sk-serial::before {content: \"\";position: absolute;border-left: 1px solid gray;box-sizing: border-box;top: 0;bottom: 0;left: 50%;z-index: 0;}#sk-container-id-2 div.sk-serial {display: flex;flex-direction: column;align-items: center;background-color: white;padding-right: 0.2em;padding-left: 0.2em;position: relative;}#sk-container-id-2 div.sk-item {position: relative;z-index: 1;}#sk-container-id-2 div.sk-parallel {display: flex;align-items: stretch;justify-content: center;background-color: white;position: relative;}#sk-container-id-2 div.sk-item::before, #sk-container-id-2 div.sk-parallel-item::before {content: \"\";position: absolute;border-left: 1px solid gray;box-sizing: border-box;top: 0;bottom: 0;left: 50%;z-index: -1;}#sk-container-id-2 div.sk-parallel-item {display: flex;flex-direction: column;z-index: 1;position: relative;background-color: white;}#sk-container-id-2 div.sk-parallel-item:first-child::after {align-self: flex-end;width: 50%;}#sk-container-id-2 div.sk-parallel-item:last-child::after {align-self: flex-start;width: 50%;}#sk-container-id-2 div.sk-parallel-item:only-child::after {width: 0;}#sk-container-id-2 div.sk-dashed-wrapped {border: 1px dashed gray;margin: 0 0.4em 0.5em 0.4em;box-sizing: border-box;padding-bottom: 0.4em;background-color: white;}#sk-container-id-2 div.sk-label label {font-family: monospace;font-weight: bold;display: inline-block;line-height: 1.2em;}#sk-container-id-2 div.sk-label-container {text-align: center;}#sk-container-id-2 div.sk-container {/* jupyter's `normalize.less` sets `[hidden] { display: none; }` but bootstrap.min.css set `[hidden] { display: none !important; }` so we also need the `!important` here to be able to override the default hidden behavior on the sphinx rendered scikit-learn.org. See: https://github.com/scikit-learn/scikit-learn/issues/21755 */display: inline-block !important;position: relative;}#sk-container-id-2 div.sk-text-repr-fallback {display: none;}</style><div id=\"sk-container-id-2\" class=\"sk-top-container\"><div class=\"sk-text-repr-fallback\"><pre>RandomizedSearchCV(cv=5, estimator=DecisionTreeClassifier(), n_iter=5,\n",
       "                   n_jobs=-1,\n",
       "                   param_distributions={&#x27;max_depth&#x27;: [None, 11, 13, 11],\n",
       "                                        &#x27;min_samples_leaf&#x27;: &lt;scipy.stats._distn_infrastructure.rv_discrete_frozen object at 0x000001D4C2326E50&gt;,\n",
       "                                        &#x27;min_samples_split&#x27;: &lt;scipy.stats._distn_infrastructure.rv_discrete_frozen object at 0x000001D4C2354A90&gt;},\n",
       "                   random_state=42, scoring=&#x27;accuracy&#x27;, verbose=1)</pre><b>In a Jupyter environment, please rerun this cell to show the HTML representation or trust the notebook. <br />On GitHub, the HTML representation is unable to render, please try loading this page with nbviewer.org.</b></div><div class=\"sk-container\" hidden><div class=\"sk-item sk-dashed-wrapped\"><div class=\"sk-label-container\"><div class=\"sk-label sk-toggleable\"><input class=\"sk-toggleable__control sk-hidden--visually\" id=\"sk-estimator-id-4\" type=\"checkbox\" ><label for=\"sk-estimator-id-4\" class=\"sk-toggleable__label sk-toggleable__label-arrow\">RandomizedSearchCV</label><div class=\"sk-toggleable__content\"><pre>RandomizedSearchCV(cv=5, estimator=DecisionTreeClassifier(), n_iter=5,\n",
       "                   n_jobs=-1,\n",
       "                   param_distributions={&#x27;max_depth&#x27;: [None, 11, 13, 11],\n",
       "                                        &#x27;min_samples_leaf&#x27;: &lt;scipy.stats._distn_infrastructure.rv_discrete_frozen object at 0x000001D4C2326E50&gt;,\n",
       "                                        &#x27;min_samples_split&#x27;: &lt;scipy.stats._distn_infrastructure.rv_discrete_frozen object at 0x000001D4C2354A90&gt;},\n",
       "                   random_state=42, scoring=&#x27;accuracy&#x27;, verbose=1)</pre></div></div></div><div class=\"sk-parallel\"><div class=\"sk-parallel-item\"><div class=\"sk-item\"><div class=\"sk-label-container\"><div class=\"sk-label sk-toggleable\"><input class=\"sk-toggleable__control sk-hidden--visually\" id=\"sk-estimator-id-5\" type=\"checkbox\" ><label for=\"sk-estimator-id-5\" class=\"sk-toggleable__label sk-toggleable__label-arrow\">estimator: DecisionTreeClassifier</label><div class=\"sk-toggleable__content\"><pre>DecisionTreeClassifier()</pre></div></div></div><div class=\"sk-serial\"><div class=\"sk-item\"><div class=\"sk-estimator sk-toggleable\"><input class=\"sk-toggleable__control sk-hidden--visually\" id=\"sk-estimator-id-6\" type=\"checkbox\" ><label for=\"sk-estimator-id-6\" class=\"sk-toggleable__label sk-toggleable__label-arrow\">DecisionTreeClassifier</label><div class=\"sk-toggleable__content\"><pre>DecisionTreeClassifier()</pre></div></div></div></div></div></div></div></div></div></div>"
      ],
      "text/plain": [
       "RandomizedSearchCV(cv=5, estimator=DecisionTreeClassifier(), n_iter=5,\n",
       "                   n_jobs=-1,\n",
       "                   param_distributions={'max_depth': [None, 11, 13, 11],\n",
       "                                        'min_samples_leaf': <scipy.stats._distn_infrastructure.rv_discrete_frozen object at 0x000001D4C2326E50>,\n",
       "                                        'min_samples_split': <scipy.stats._distn_infrastructure.rv_discrete_frozen object at 0x000001D4C2354A90>},\n",
       "                   random_state=42, scoring='accuracy', verbose=1)"
      ]
     },
     "execution_count": 69,
     "metadata": {},
     "output_type": "execute_result"
    }
   ],
   "source": [
    "# Fit the Decision Tree model with RandomizedSearchCV\n",
    "decision_tree_search.fit(X_train_subset, y_train_subset)\n",
    "\n"
   ]
  },
  {
   "cell_type": "code",
   "execution_count": 115,
   "id": "865e4c55",
   "metadata": {},
   "outputs": [],
   "source": [
    "# Get the best Decision Tree model\n",
    "best_decision_tree_model = decision_tree_search.best_estimator_"
   ]
  },
  {
   "cell_type": "code",
   "execution_count": 116,
   "id": "6e3e3a5b",
   "metadata": {},
   "outputs": [
    {
     "name": "stdout",
     "output_type": "stream",
     "text": [
      "Best Parameters: {'n_estimators': 200, 'min_samples_split': 2, 'max_depth': 4, 'learning_rate': 0.1}\n"
     ]
    }
   ],
   "source": [
    "# Best hyperparameters\n",
    "best_params = random_search.best_params_\n",
    "print(\"Best Parameters:\", best_params)"
   ]
  },
  {
   "cell_type": "code",
   "execution_count": 117,
   "id": "ce71ee97",
   "metadata": {},
   "outputs": [],
   "source": [
    "decision_tree_pred = best_decision_tree_model.predict(X_test_subset)\n",
    "decision_tree_accuracy = accuracy_score(y_test_subset, decision_tree_pred)\n",
    "decision_tree_conf_matrix = confusion_matrix(y_test_subset, decision_tree_pred)\n",
    "decision_tree_class_report = classification_report(y_test_subset, decision_tree_pred)\n",
    "\n"
   ]
  },
  {
   "cell_type": "markdown",
   "id": "a08f69b0",
   "metadata": {},
   "source": [
    "print(\"Decision Tree Accuracy:\", decision_tree_accuracy)\n",
    "print(\"Confusion Matrix for Decision Tree:\\n\", decision_tree_conf_matrix)\n",
    "print(\"Classification Report for Decision Tree:\\n\", decision_tree_class_report)"
   ]
  },
  {
   "cell_type": "markdown",
   "id": "860b6a2b",
   "metadata": {},
   "source": [
    "# Gradient Boosting"
   ]
  },
  {
   "cell_type": "code",
   "execution_count": 73,
   "id": "4682b8a0",
   "metadata": {},
   "outputs": [],
   "source": [
    "param_dist = {\n",
    "    'n_estimators': [100, 200],  # Fewer options\n",
    "    'learning_rate': [0.1, 0.2],\n",
    "    'max_depth': [3, 4],\n",
    "    'min_samples_split': [2, 3]\n",
    "}\n"
   ]
  },
  {
   "cell_type": "code",
   "execution_count": 74,
   "id": "93a8dc22",
   "metadata": {},
   "outputs": [],
   "source": [
    "random_search = RandomizedSearchCV(\n",
    "    estimator=GradientBoostingClassifier(random_state=42),\n",
    "    param_distributions=param_dist,\n",
    "    n_iter=5,  # Reduced number of parameter settings that are sampled\n",
    "    scoring='accuracy',\n",
    "    cv=3,\n",
    "    random_state=42\n",
    ")"
   ]
  },
  {
   "cell_type": "code",
   "execution_count": 75,
   "id": "af2cf285",
   "metadata": {},
   "outputs": [
    {
     "data": {
      "text/html": [
       "<style>#sk-container-id-3 {color: black;}#sk-container-id-3 pre{padding: 0;}#sk-container-id-3 div.sk-toggleable {background-color: white;}#sk-container-id-3 label.sk-toggleable__label {cursor: pointer;display: block;width: 100%;margin-bottom: 0;padding: 0.3em;box-sizing: border-box;text-align: center;}#sk-container-id-3 label.sk-toggleable__label-arrow:before {content: \"▸\";float: left;margin-right: 0.25em;color: #696969;}#sk-container-id-3 label.sk-toggleable__label-arrow:hover:before {color: black;}#sk-container-id-3 div.sk-estimator:hover label.sk-toggleable__label-arrow:before {color: black;}#sk-container-id-3 div.sk-toggleable__content {max-height: 0;max-width: 0;overflow: hidden;text-align: left;background-color: #f0f8ff;}#sk-container-id-3 div.sk-toggleable__content pre {margin: 0.2em;color: black;border-radius: 0.25em;background-color: #f0f8ff;}#sk-container-id-3 input.sk-toggleable__control:checked~div.sk-toggleable__content {max-height: 200px;max-width: 100%;overflow: auto;}#sk-container-id-3 input.sk-toggleable__control:checked~label.sk-toggleable__label-arrow:before {content: \"▾\";}#sk-container-id-3 div.sk-estimator input.sk-toggleable__control:checked~label.sk-toggleable__label {background-color: #d4ebff;}#sk-container-id-3 div.sk-label input.sk-toggleable__control:checked~label.sk-toggleable__label {background-color: #d4ebff;}#sk-container-id-3 input.sk-hidden--visually {border: 0;clip: rect(1px 1px 1px 1px);clip: rect(1px, 1px, 1px, 1px);height: 1px;margin: -1px;overflow: hidden;padding: 0;position: absolute;width: 1px;}#sk-container-id-3 div.sk-estimator {font-family: monospace;background-color: #f0f8ff;border: 1px dotted black;border-radius: 0.25em;box-sizing: border-box;margin-bottom: 0.5em;}#sk-container-id-3 div.sk-estimator:hover {background-color: #d4ebff;}#sk-container-id-3 div.sk-parallel-item::after {content: \"\";width: 100%;border-bottom: 1px solid gray;flex-grow: 1;}#sk-container-id-3 div.sk-label:hover label.sk-toggleable__label {background-color: #d4ebff;}#sk-container-id-3 div.sk-serial::before {content: \"\";position: absolute;border-left: 1px solid gray;box-sizing: border-box;top: 0;bottom: 0;left: 50%;z-index: 0;}#sk-container-id-3 div.sk-serial {display: flex;flex-direction: column;align-items: center;background-color: white;padding-right: 0.2em;padding-left: 0.2em;position: relative;}#sk-container-id-3 div.sk-item {position: relative;z-index: 1;}#sk-container-id-3 div.sk-parallel {display: flex;align-items: stretch;justify-content: center;background-color: white;position: relative;}#sk-container-id-3 div.sk-item::before, #sk-container-id-3 div.sk-parallel-item::before {content: \"\";position: absolute;border-left: 1px solid gray;box-sizing: border-box;top: 0;bottom: 0;left: 50%;z-index: -1;}#sk-container-id-3 div.sk-parallel-item {display: flex;flex-direction: column;z-index: 1;position: relative;background-color: white;}#sk-container-id-3 div.sk-parallel-item:first-child::after {align-self: flex-end;width: 50%;}#sk-container-id-3 div.sk-parallel-item:last-child::after {align-self: flex-start;width: 50%;}#sk-container-id-3 div.sk-parallel-item:only-child::after {width: 0;}#sk-container-id-3 div.sk-dashed-wrapped {border: 1px dashed gray;margin: 0 0.4em 0.5em 0.4em;box-sizing: border-box;padding-bottom: 0.4em;background-color: white;}#sk-container-id-3 div.sk-label label {font-family: monospace;font-weight: bold;display: inline-block;line-height: 1.2em;}#sk-container-id-3 div.sk-label-container {text-align: center;}#sk-container-id-3 div.sk-container {/* jupyter's `normalize.less` sets `[hidden] { display: none; }` but bootstrap.min.css set `[hidden] { display: none !important; }` so we also need the `!important` here to be able to override the default hidden behavior on the sphinx rendered scikit-learn.org. See: https://github.com/scikit-learn/scikit-learn/issues/21755 */display: inline-block !important;position: relative;}#sk-container-id-3 div.sk-text-repr-fallback {display: none;}</style><div id=\"sk-container-id-3\" class=\"sk-top-container\"><div class=\"sk-text-repr-fallback\"><pre>RandomizedSearchCV(cv=3, estimator=GradientBoostingClassifier(random_state=42),\n",
       "                   n_iter=5,\n",
       "                   param_distributions={&#x27;learning_rate&#x27;: [0.1, 0.2],\n",
       "                                        &#x27;max_depth&#x27;: [3, 4],\n",
       "                                        &#x27;min_samples_split&#x27;: [2, 3],\n",
       "                                        &#x27;n_estimators&#x27;: [100, 200]},\n",
       "                   random_state=42, scoring=&#x27;accuracy&#x27;)</pre><b>In a Jupyter environment, please rerun this cell to show the HTML representation or trust the notebook. <br />On GitHub, the HTML representation is unable to render, please try loading this page with nbviewer.org.</b></div><div class=\"sk-container\" hidden><div class=\"sk-item sk-dashed-wrapped\"><div class=\"sk-label-container\"><div class=\"sk-label sk-toggleable\"><input class=\"sk-toggleable__control sk-hidden--visually\" id=\"sk-estimator-id-7\" type=\"checkbox\" ><label for=\"sk-estimator-id-7\" class=\"sk-toggleable__label sk-toggleable__label-arrow\">RandomizedSearchCV</label><div class=\"sk-toggleable__content\"><pre>RandomizedSearchCV(cv=3, estimator=GradientBoostingClassifier(random_state=42),\n",
       "                   n_iter=5,\n",
       "                   param_distributions={&#x27;learning_rate&#x27;: [0.1, 0.2],\n",
       "                                        &#x27;max_depth&#x27;: [3, 4],\n",
       "                                        &#x27;min_samples_split&#x27;: [2, 3],\n",
       "                                        &#x27;n_estimators&#x27;: [100, 200]},\n",
       "                   random_state=42, scoring=&#x27;accuracy&#x27;)</pre></div></div></div><div class=\"sk-parallel\"><div class=\"sk-parallel-item\"><div class=\"sk-item\"><div class=\"sk-label-container\"><div class=\"sk-label sk-toggleable\"><input class=\"sk-toggleable__control sk-hidden--visually\" id=\"sk-estimator-id-8\" type=\"checkbox\" ><label for=\"sk-estimator-id-8\" class=\"sk-toggleable__label sk-toggleable__label-arrow\">estimator: GradientBoostingClassifier</label><div class=\"sk-toggleable__content\"><pre>GradientBoostingClassifier(random_state=42)</pre></div></div></div><div class=\"sk-serial\"><div class=\"sk-item\"><div class=\"sk-estimator sk-toggleable\"><input class=\"sk-toggleable__control sk-hidden--visually\" id=\"sk-estimator-id-9\" type=\"checkbox\" ><label for=\"sk-estimator-id-9\" class=\"sk-toggleable__label sk-toggleable__label-arrow\">GradientBoostingClassifier</label><div class=\"sk-toggleable__content\"><pre>GradientBoostingClassifier(random_state=42)</pre></div></div></div></div></div></div></div></div></div></div>"
      ],
      "text/plain": [
       "RandomizedSearchCV(cv=3, estimator=GradientBoostingClassifier(random_state=42),\n",
       "                   n_iter=5,\n",
       "                   param_distributions={'learning_rate': [0.1, 0.2],\n",
       "                                        'max_depth': [3, 4],\n",
       "                                        'min_samples_split': [2, 3],\n",
       "                                        'n_estimators': [100, 200]},\n",
       "                   random_state=42, scoring='accuracy')"
      ]
     },
     "execution_count": 75,
     "metadata": {},
     "output_type": "execute_result"
    }
   ],
   "source": [
    "# Fit the random search model to find optimal hyperparameters\n",
    "random_search.fit(X_train_subset, y_train_subset)"
   ]
  },
  {
   "cell_type": "code",
   "execution_count": 76,
   "id": "181fc698",
   "metadata": {},
   "outputs": [
    {
     "name": "stdout",
     "output_type": "stream",
     "text": [
      "Best Parameters: {'n_estimators': 200, 'min_samples_split': 2, 'max_depth': 4, 'learning_rate': 0.1}\n"
     ]
    }
   ],
   "source": [
    "# Best model after random search\n",
    "best_gb_model = random_search.best_estimator_\n",
    "\n",
    "# Best hyperparameters\n",
    "best_params = random_search.best_params_\n",
    "print(\"Best Parameters:\", best_params)"
   ]
  },
  {
   "cell_type": "code",
   "execution_count": 77,
   "id": "6e5f09d0",
   "metadata": {},
   "outputs": [],
   "source": [
    "# Predictions using the best Gradient Boosting model\n",
    "gb_best_pred = best_gb_model.predict(X_test_subset)\n",
    "\n",
    "\n"
   ]
  },
  {
   "cell_type": "code",
   "execution_count": 103,
   "id": "ea44b41e",
   "metadata": {},
   "outputs": [
    {
     "name": "stdout",
     "output_type": "stream",
     "text": [
      " Gradient Boosting Accuracy: 0.9987710674157303\n",
      "Confusion Matrix for Gradient Boosting:\n",
      " [[5681    5]\n",
      " [   2    8]]\n",
      "Classification Report:\n",
      "               precision    recall  f1-score   support\n",
      "\n",
      "           0       1.00      1.00      1.00      5686\n",
      "           1       0.62      0.80      0.70        10\n",
      "\n",
      "    accuracy                           1.00      5696\n",
      "   macro avg       0.81      0.90      0.85      5696\n",
      "weighted avg       1.00      1.00      1.00      5696\n",
      "\n"
     ]
    }
   ],
   "source": [
    "# Evaluation\n",
    "gb_best_accuracy = accuracy_score(y_test_subset, gb_best_pred)\n",
    "gb_best_conf_matrix = confusion_matrix(y_test_subset, gb_best_pred)\n",
    "gb_best_class_report = classification_report(y_test_subset, gb_best_pred)\n",
    "\n",
    "print(\" Gradient Boosting Accuracy:\", gb_best_accuracy)\n",
    "print(\"Confusion Matrix for Gradient Boosting:\\n\",gb_best_conf_matrix )\n",
    "print(\"Classification Report:\\n\", gb_best_class_report)"
   ]
  },
  {
   "cell_type": "markdown",
   "id": "00cfb2e9",
   "metadata": {},
   "source": [
    "#  svm model"
   ]
  },
  {
   "cell_type": "code",
   "execution_count": 97,
   "id": "7b2af8c1",
   "metadata": {},
   "outputs": [],
   "source": [
    "from scipy.stats import uniform\n",
    "from sklearn.svm import SVC\n",
    "from sklearn.model_selection import RandomizedSearchCV\n",
    "\n",
    "svm_params = {\n",
    "    'C': uniform(0.5, 0.5),  # Simplified to a narrower range around a reasonable default\n",
    "    'kernel': ['rbf']  # Stick to one kernel type for speed\n",
    "}\n",
    "\n",
    "n_iter_search = 5  # Further reduced number of iterations\n",
    "\n",
    "svm_search = RandomizedSearchCV(\n",
    "    SVC(probability=True, max_iter=1000),  # Added max_iter\n",
    "    param_distributions=svm_params,\n",
    "    n_iter=n_iter_search,\n",
    "    cv=3,  # Reduced CV folds\n",
    "    scoring='accuracy',\n",
    "    random_state=42,\n",
    "    verbose=2,  # Increased verbosity\n",
    "    n_jobs=4  # Reduced jobs if necessary\n",
    ")\n"
   ]
  },
  {
   "cell_type": "code",
   "execution_count": 98,
   "id": "e0318ed8",
   "metadata": {},
   "outputs": [
    {
     "data": {
      "text/html": [
       "<style>#sk-container-id-4 {color: black;}#sk-container-id-4 pre{padding: 0;}#sk-container-id-4 div.sk-toggleable {background-color: white;}#sk-container-id-4 label.sk-toggleable__label {cursor: pointer;display: block;width: 100%;margin-bottom: 0;padding: 0.3em;box-sizing: border-box;text-align: center;}#sk-container-id-4 label.sk-toggleable__label-arrow:before {content: \"▸\";float: left;margin-right: 0.25em;color: #696969;}#sk-container-id-4 label.sk-toggleable__label-arrow:hover:before {color: black;}#sk-container-id-4 div.sk-estimator:hover label.sk-toggleable__label-arrow:before {color: black;}#sk-container-id-4 div.sk-toggleable__content {max-height: 0;max-width: 0;overflow: hidden;text-align: left;background-color: #f0f8ff;}#sk-container-id-4 div.sk-toggleable__content pre {margin: 0.2em;color: black;border-radius: 0.25em;background-color: #f0f8ff;}#sk-container-id-4 input.sk-toggleable__control:checked~div.sk-toggleable__content {max-height: 200px;max-width: 100%;overflow: auto;}#sk-container-id-4 input.sk-toggleable__control:checked~label.sk-toggleable__label-arrow:before {content: \"▾\";}#sk-container-id-4 div.sk-estimator input.sk-toggleable__control:checked~label.sk-toggleable__label {background-color: #d4ebff;}#sk-container-id-4 div.sk-label input.sk-toggleable__control:checked~label.sk-toggleable__label {background-color: #d4ebff;}#sk-container-id-4 input.sk-hidden--visually {border: 0;clip: rect(1px 1px 1px 1px);clip: rect(1px, 1px, 1px, 1px);height: 1px;margin: -1px;overflow: hidden;padding: 0;position: absolute;width: 1px;}#sk-container-id-4 div.sk-estimator {font-family: monospace;background-color: #f0f8ff;border: 1px dotted black;border-radius: 0.25em;box-sizing: border-box;margin-bottom: 0.5em;}#sk-container-id-4 div.sk-estimator:hover {background-color: #d4ebff;}#sk-container-id-4 div.sk-parallel-item::after {content: \"\";width: 100%;border-bottom: 1px solid gray;flex-grow: 1;}#sk-container-id-4 div.sk-label:hover label.sk-toggleable__label {background-color: #d4ebff;}#sk-container-id-4 div.sk-serial::before {content: \"\";position: absolute;border-left: 1px solid gray;box-sizing: border-box;top: 0;bottom: 0;left: 50%;z-index: 0;}#sk-container-id-4 div.sk-serial {display: flex;flex-direction: column;align-items: center;background-color: white;padding-right: 0.2em;padding-left: 0.2em;position: relative;}#sk-container-id-4 div.sk-item {position: relative;z-index: 1;}#sk-container-id-4 div.sk-parallel {display: flex;align-items: stretch;justify-content: center;background-color: white;position: relative;}#sk-container-id-4 div.sk-item::before, #sk-container-id-4 div.sk-parallel-item::before {content: \"\";position: absolute;border-left: 1px solid gray;box-sizing: border-box;top: 0;bottom: 0;left: 50%;z-index: -1;}#sk-container-id-4 div.sk-parallel-item {display: flex;flex-direction: column;z-index: 1;position: relative;background-color: white;}#sk-container-id-4 div.sk-parallel-item:first-child::after {align-self: flex-end;width: 50%;}#sk-container-id-4 div.sk-parallel-item:last-child::after {align-self: flex-start;width: 50%;}#sk-container-id-4 div.sk-parallel-item:only-child::after {width: 0;}#sk-container-id-4 div.sk-dashed-wrapped {border: 1px dashed gray;margin: 0 0.4em 0.5em 0.4em;box-sizing: border-box;padding-bottom: 0.4em;background-color: white;}#sk-container-id-4 div.sk-label label {font-family: monospace;font-weight: bold;display: inline-block;line-height: 1.2em;}#sk-container-id-4 div.sk-label-container {text-align: center;}#sk-container-id-4 div.sk-container {/* jupyter's `normalize.less` sets `[hidden] { display: none; }` but bootstrap.min.css set `[hidden] { display: none !important; }` so we also need the `!important` here to be able to override the default hidden behavior on the sphinx rendered scikit-learn.org. See: https://github.com/scikit-learn/scikit-learn/issues/21755 */display: inline-block !important;position: relative;}#sk-container-id-4 div.sk-text-repr-fallback {display: none;}</style><div id=\"sk-container-id-4\" class=\"sk-top-container\"><div class=\"sk-text-repr-fallback\"><pre>SVC(random_state=42)</pre><b>In a Jupyter environment, please rerun this cell to show the HTML representation or trust the notebook. <br />On GitHub, the HTML representation is unable to render, please try loading this page with nbviewer.org.</b></div><div class=\"sk-container\" hidden><div class=\"sk-item\"><div class=\"sk-estimator sk-toggleable\"><input class=\"sk-toggleable__control sk-hidden--visually\" id=\"sk-estimator-id-10\" type=\"checkbox\" checked><label for=\"sk-estimator-id-10\" class=\"sk-toggleable__label sk-toggleable__label-arrow\">SVC</label><div class=\"sk-toggleable__content\"><pre>SVC(random_state=42)</pre></div></div></div></div></div>"
      ],
      "text/plain": [
       "SVC(random_state=42)"
      ]
     },
     "execution_count": 98,
     "metadata": {},
     "output_type": "execute_result"
    }
   ],
   "source": [
    "# Fit the random search model to find optimal hyperparameters\n",
    "svm_model.fit(X_train_subset, y_train_subset)"
   ]
  },
  {
   "cell_type": "code",
   "execution_count": 99,
   "id": "d9e546a1",
   "metadata": {},
   "outputs": [
    {
     "name": "stdout",
     "output_type": "stream",
     "text": [
      "Best Parameters: {'n_estimators': 200, 'min_samples_split': 2, 'max_depth': 4, 'learning_rate': 0.1}\n"
     ]
    }
   ],
   "source": [
    "# Best model after random search\n",
    "best_svm_model = random_search.best_estimator_\n",
    "\n",
    "# Best hyperparameters\n",
    "best_params = random_search.best_params_\n",
    "print(\"Best Parameters:\", best_params)"
   ]
  },
  {
   "cell_type": "code",
   "execution_count": 100,
   "id": "0a6d00f9",
   "metadata": {},
   "outputs": [],
   "source": [
    "# Predictions using the best Gradient Boosting model\n",
    "svm_best_pred = best_svm_model.predict(X_test_subset)"
   ]
  },
  {
   "cell_type": "code",
   "execution_count": 102,
   "id": "0c9c7102",
   "metadata": {},
   "outputs": [
    {
     "name": "stdout",
     "output_type": "stream",
     "text": [
      "svm_model Accuracy: 0.9987710674157303\n",
      "Confusion Matrix for svm_model:\n",
      " [[5681    5]\n",
      " [   2    8]]\n",
      "Classification Report:\n",
      "               precision    recall  f1-score   support\n",
      "\n",
      "           0       1.00      1.00      1.00      5686\n",
      "           1       0.62      0.80      0.70        10\n",
      "\n",
      "    accuracy                           1.00      5696\n",
      "   macro avg       0.81      0.90      0.85      5696\n",
      "weighted avg       1.00      1.00      1.00      5696\n",
      "\n"
     ]
    }
   ],
   "source": [
    "# Evaluation\n",
    "svm_model_best_accuracy = accuracy_score(y_test_subset, svm_best_pred)\n",
    "svm_model_best_conf_matrix = confusion_matrix(y_test_subset,svm_best_pred)\n",
    "svm_model_best_class_report = classification_report(y_test_subset, svm_best_pred)\n",
    "\n",
    "print(\"svm_model Accuracy:\", svm_model_best_accuracy)\n",
    "print(\"Confusion Matrix for svm_model:\\n\",svm_model_best_conf_matrix )\n",
    "print(\"Classification Report:\\n\", svm_model_best_class_report)"
   ]
  },
  {
   "cell_type": "code",
   "execution_count": null,
   "id": "c7934c32",
   "metadata": {},
   "outputs": [],
   "source": []
  },
  {
   "cell_type": "markdown",
   "id": "973cd7b1",
   "metadata": {},
   "source": [
    "# Neural Networks"
   ]
  },
  {
   "cell_type": "code",
   "execution_count": 105,
   "id": "04940243",
   "metadata": {},
   "outputs": [],
   "source": [
    "from sklearn.model_selection import train_test_split\n",
    "from sklearn.preprocessing import StandardScaler\n",
    "\n",
    "# Assume 'Class' is the target variable\n",
    "X = transformed_data.drop('Class', axis=1)\n",
    "y = transformed_data['Class']\n",
    "\n",
    "# Splitting the data into train and test sets\n",
    "X_train, X_test, y_train, y_test = train_test_split(X, y, test_size=0.2, random_state=42)\n",
    "\n",
    "# Scaling features\n",
    "scaler = StandardScaler()\n",
    "X_train_scaled = scaler.fit_transform(X_train)\n",
    "X_test_scaled = scaler.transform(X_test)\n"
   ]
  },
  {
   "cell_type": "code",
   "execution_count": 109,
   "id": "43ecd94a",
   "metadata": {},
   "outputs": [],
   "source": [
    "import tensorflow as tf\n",
    "from tensorflow.keras.models import Sequential\n",
    "from tensorflow.keras.layers import Dense\n",
    "from tensorflow.keras.callbacks import EarlyStopping\n",
    "from tensorflow.keras.layers import Dropout\n",
    "\n",
    "# Setting a random seed for reproducibility\n",
    "tf.random.set_seed(42)\n",
    "\n",
    "# Defining the model\n",
    "model = Sequential()\n",
    "\n",
    "# Define early stopping callback\n",
    "early_stopping = EarlyStopping(\n",
    "    monitor='val_loss',  # Monitor validation loss\n",
    "    patience=3,          # Number of epochs with no improvement after which training will be stopped\n",
    "    restore_best_weights=True  # Restores model weights from the epoch with the best value of the monitored quantity\n",
    ")"
   ]
  },
  {
   "cell_type": "code",
   "execution_count": 110,
   "id": "0737084e",
   "metadata": {},
   "outputs": [],
   "source": [
    "\n",
    "\n",
    "model = Sequential()\n",
    "model.add(Dense(10, input_dim=X_train_scaled.shape[1], activation='relu'))\n",
    "model.add(Dropout(0.2))  # Dropout layer\n",
    "model.add(Dense(8, activation='relu'))\n",
    "model.add(Dropout(0.2))  # Another dropout layer\n",
    "model.add(Dense(1, activation='sigmoid'))\n"
   ]
  },
  {
   "cell_type": "code",
   "execution_count": 111,
   "id": "1dcad8c7",
   "metadata": {},
   "outputs": [],
   "source": [
    "model.compile(loss='binary_crossentropy', optimizer='adam', metrics=['accuracy'])\n"
   ]
  },
  {
   "cell_type": "code",
   "execution_count": 112,
   "id": "bf67a612",
   "metadata": {},
   "outputs": [
    {
     "name": "stdout",
     "output_type": "stream",
     "text": [
      "Epoch 1/20\n",
      "5697/5697 [==============================] - 32s 5ms/step - loss: 0.0452 - accuracy: 0.9874 - val_loss: 0.0042 - val_accuracy: 0.9989\n",
      "Epoch 2/20\n",
      "5697/5697 [==============================] - 29s 5ms/step - loss: 0.0071 - accuracy: 0.9990 - val_loss: 0.0036 - val_accuracy: 0.9991\n",
      "Epoch 3/20\n",
      "5697/5697 [==============================] - 30s 5ms/step - loss: 0.0058 - accuracy: 0.9991 - val_loss: 0.0032 - val_accuracy: 0.9991\n",
      "Epoch 4/20\n",
      "5697/5697 [==============================] - 30s 5ms/step - loss: 0.0054 - accuracy: 0.9989 - val_loss: 0.0033 - val_accuracy: 0.9990\n",
      "Epoch 5/20\n",
      "5697/5697 [==============================] - 29s 5ms/step - loss: 0.0050 - accuracy: 0.9990 - val_loss: 0.0032 - val_accuracy: 0.9991\n",
      "Epoch 6/20\n",
      "5697/5697 [==============================] - 30s 5ms/step - loss: 0.0046 - accuracy: 0.9991 - val_loss: 0.0033 - val_accuracy: 0.9991\n"
     ]
    }
   ],
   "source": [
    "history = model.fit(\n",
    "    X_train_scaled, y_train,\n",
    "    validation_split=0.2,\n",
    "    epochs=20,  # You might increase this if you're using early stopping\n",
    "    batch_size=32,\n",
    "    verbose=1,\n",
    "    callbacks=[early_stopping]  # Include early stopping here\n",
    ")\n"
   ]
  },
  {
   "cell_type": "code",
   "execution_count": 113,
   "id": "2f8e6608",
   "metadata": {},
   "outputs": [
    {
     "name": "stdout",
     "output_type": "stream",
     "text": [
      "1781/1781 [==============================] - 6s 3ms/step\n",
      "              precision    recall  f1-score   support\n",
      "\n",
      "           0       1.00      1.00      1.00     56864\n",
      "           1       0.86      0.52      0.65        98\n",
      "\n",
      "    accuracy                           1.00     56962\n",
      "   macro avg       0.93      0.76      0.82     56962\n",
      "weighted avg       1.00      1.00      1.00     56962\n",
      "\n"
     ]
    }
   ],
   "source": [
    "from sklearn.metrics import classification_report\n",
    "\n",
    "# Predict labels for the test set\n",
    "y_pred = model.predict(X_test_scaled) > 0.5  # Adjust threshold as needed\n",
    "\n",
    "# Calculate and print classification report\n",
    "print(classification_report(y_test, y_pred))\n"
   ]
  },
  {
   "cell_type": "code",
   "execution_count": 107,
   "id": "6e199fd9",
   "metadata": {},
   "outputs": [
    {
     "name": "stdout",
     "output_type": "stream",
     "text": [
      "Epoch 1/20\n",
      "WARNING:tensorflow:From C:\\Users\\chris\\anaconda3\\Lib\\site-packages\\keras\\src\\utils\\tf_utils.py:492: The name tf.ragged.RaggedTensorValue is deprecated. Please use tf.compat.v1.ragged.RaggedTensorValue instead.\n",
      "\n",
      "WARNING:tensorflow:From C:\\Users\\chris\\anaconda3\\Lib\\site-packages\\keras\\src\\engine\\base_layer_utils.py:384: The name tf.executing_eagerly_outside_functions is deprecated. Please use tf.compat.v1.executing_eagerly_outside_functions instead.\n",
      "\n",
      "5697/5697 [==============================] - 30s 5ms/step - loss: 0.0150 - accuracy: 0.9972 - val_loss: 0.0041 - val_accuracy: 0.9981\n",
      "Epoch 2/20\n",
      "5697/5697 [==============================] - 27s 5ms/step - loss: 0.0038 - accuracy: 0.9993 - val_loss: 0.0035 - val_accuracy: 0.9993\n",
      "Epoch 3/20\n",
      "5697/5697 [==============================] - 27s 5ms/step - loss: 0.0033 - accuracy: 0.9994 - val_loss: 0.0032 - val_accuracy: 0.9993\n",
      "Epoch 4/20\n",
      "5697/5697 [==============================] - 27s 5ms/step - loss: 0.0030 - accuracy: 0.9994 - val_loss: 0.0032 - val_accuracy: 0.9994\n",
      "Epoch 5/20\n",
      "5697/5697 [==============================] - 27s 5ms/step - loss: 0.0028 - accuracy: 0.9994 - val_loss: 0.0032 - val_accuracy: 0.9993\n",
      "Epoch 6/20\n",
      "5697/5697 [==============================] - 27s 5ms/step - loss: 0.0027 - accuracy: 0.9994 - val_loss: 0.0032 - val_accuracy: 0.9994\n",
      "Epoch 7/20\n",
      "5697/5697 [==============================] - 29s 5ms/step - loss: 0.0025 - accuracy: 0.9994 - val_loss: 0.0030 - val_accuracy: 0.9993\n",
      "Epoch 8/20\n",
      "5697/5697 [==============================] - 28s 5ms/step - loss: 0.0025 - accuracy: 0.9995 - val_loss: 0.0031 - val_accuracy: 0.9994\n",
      "Epoch 9/20\n",
      "5697/5697 [==============================] - 28s 5ms/step - loss: 0.0024 - accuracy: 0.9994 - val_loss: 0.0032 - val_accuracy: 0.9994\n",
      "Epoch 10/20\n",
      "5697/5697 [==============================] - 29s 5ms/step - loss: 0.0024 - accuracy: 0.9995 - val_loss: 0.0031 - val_accuracy: 0.9994\n"
     ]
    }
   ],
   "source": [
    "# Early stopping callback\n",
    "early_stopping = EarlyStopping(\n",
    "    monitor='val_loss',  # Monitors the validation loss\n",
    "    patience=3,  # Number of epochs with no improvement after which training will be stopped\n",
    "    restore_best_weights=True  # Restores model weights from the epoch with the best value of the monitored quantity.\n",
    ")\n",
    "\n",
    "\n",
    "\n",
    "# Training the model with early stopping\n",
    "history = model.fit(\n",
    "    X_train_scaled, y_train,\n",
    "    validation_split=0.2,\n",
    "    epochs=20,  # You can set this higher if using early stopping\n",
    "    batch_size=32,\n",
    "    verbose=1,\n",
    "    callbacks=[early_stopping]  # Add early stopping here\n",
    ")\n"
   ]
  },
  {
   "cell_type": "markdown",
   "id": "651a2734",
   "metadata": {},
   "source": [
    "# Model Evaluation:"
   ]
  },
  {
   "cell_type": "code",
   "execution_count": 54,
   "id": "fc5a3dc0",
   "metadata": {},
   "outputs": [
    {
     "data": {
      "text/plain": [
       "(0.9997889553288779,\n",
       " 0.9998417164966584,\n",
       " 0.9970189940204011,\n",
       " 0.515089693985227,\n",
       " 0.7998241294407317)"
      ]
     },
     "execution_count": 54,
     "metadata": {},
     "output_type": "execute_result"
    }
   ],
   "source": [
    "from sklearn.metrics import roc_auc_score\n",
    "\n",
    "# Calculating ROC-AUC for each model\n",
    "# For models like Logistic Regression and SVM that use decision functions, we use 'decision_function' method\n",
    "# For tree-based models, we use 'predict_proba' method\n",
    "\n",
    "# Logistic Regression\n",
    "logistic_roc_auc = roc_auc_score(y_test_subset, logistic_model_subset.decision_function(X_test_subset))\n",
    "\n",
    "# Random Forest\n",
    "rf_probs = random_forest_model.predict_proba(X_test_subset)[:, 1]  # Probability of the positive class\n",
    "rf_roc_auc = roc_auc_score(y_test_subset, rf_probs)\n",
    "\n",
    "# Gradient Boosting\n",
    "gb_probs = gradient_boosting_model.predict_proba(X_test_subset)[:, 1]\n",
    "gb_roc_auc = roc_auc_score(y_test_subset, gb_probs)\n",
    "\n",
    "# SVM (using decision function)\n",
    "svm_roc_auc = roc_auc_score(y_test_subset, svm_model.decision_function(X_test_subset))\n",
    "\n",
    "# Decision Tree\n",
    "dt_probs = decision_tree_model.predict_proba(X_test_subset)[:, 1]\n",
    "dt_roc_auc = roc_auc_score(y_test_subset, dt_probs)\n",
    "\n",
    "logistic_roc_auc, rf_roc_auc, gb_roc_auc, svm_roc_auc, dt_roc_auc\n",
    "\n"
   ]
  },
  {
   "cell_type": "code",
   "execution_count": 86,
   "id": "fcfefece",
   "metadata": {},
   "outputs": [],
   "source": [
    "import matplotlib.pyplot as plt\n",
    "import seaborn as sns\n",
    "import pandas as pd\n",
    "\n",
    "# Assuming 'results' is a DataFrame containing the model names and their respective metrics\n",
    "results = pd.DataFrame({\n",
    "    'Model': ['Logistic Regression', 'Random Forest', 'Gradient Boosting', 'SVM', 'Decision Tree'],\n",
    "    'Accuracy': [99.98, 99.98, 99.89, 99.83, 99.91],\n",
    "    'Precision': [79, 97, 74, 0, 70],\n",
    "    'Recall': [49, 77, 60, 0, 80],\n",
    "    'F1-Score': [60, 86, 66, 0, 74],\n",
    "    'ROC-AUC': [94.87, 94.76, 78.55, 47.89, 89.76]\n",
    "})\n",
    "\n",
    "# Melting the DataFrame to suit seaborn's barplot requirements\n",
    "results_melted = results.melt(id_vars=\"Model\", var_name=\"Metric\", value_name=\"Score\")\n"
   ]
  },
  {
   "cell_type": "code",
   "execution_count": 69,
   "id": "a679ed26",
   "metadata": {},
   "outputs": [
    {
     "data": {
      "image/png": "[encoded data removed]",
      "text/plain": [
       "<Figure size 1200x800 with 1 Axes>"
      ]
     },
     "metadata": {},
     "output_type": "display_data"
    }
   ],
   "source": [
    "plt.figure(figsize=(12, 8))\n",
    "sns.barplot(x='Metric', y='Score', hue='Model', data=results_melted)\n",
    "plt.title('Comparative Model Performance')\n",
    "plt.xticks(rotation=45)\n",
    "plt.legend(title='Model')\n",
    "plt.tight_layout()\n",
    "plt.show()\n"
   ]
  },
  {
   "cell_type": "code",
   "execution_count": 70,
   "id": "dca2ac7a",
   "metadata": {},
   "outputs": [
    {
     "data": {
      "image/png": "[encoded data removed]",
      "text/plain": [
       "<Figure size 1000x600 with 1 Axes>"
      ]
     },
     "metadata": {},
     "output_type": "display_data"
    }
   ],
   "source": [
    "plt.figure(figsize=(10, 6))\n",
    "sns.lineplot(x='Model', y='ROC-AUC', data=results, marker='o')\n",
    "plt.title('ROC-AUC Scores by Model')\n",
    "plt.xticks(rotation=45)\n",
    "plt.xlabel('Model')\n",
    "plt.ylabel('ROC-AUC Score')\n",
    "plt.grid(True)\n",
    "plt.tight_layout()\n",
    "plt.show()\n"
   ]
  },
  {
   "cell_type": "markdown",
   "id": "b5616bdd",
   "metadata": {},
   "source": [
    "# plt.figure(figsize=(10, 6))\n",
    "sns.lineplot(x='Model', y='ROC-AUC', data=results, marker='o')\n",
    "plt.title('ROC-AUC Scores by Model')\n",
    "plt.xticks(rotation=45)n   b\\``\n",
    "plt.xlabel('Model')\n",
    "plt.ylabel('ROC-AUC Score')\n",
    "plt.grid(True)\n",
    "plt.tight_layout()\n",
    "plt.show()\n"
   ]
  },
  {
   "cell_type": "code",
   "execution_count": null,
   "id": "33f9c190",
   "metadata": {},
   "outputs": [],
   "source": []
  },
  {
   "cell_type": "code",
   "execution_count": null,
   "id": "ba541235",
   "metadata": {},
   "outputs": [],
   "source": []
  }
 ],
 "metadata": {
  "kernelspec": {
   "display_name": "Python 3 (ipykernel)",
   "language": "python",
   "name": "python3"
  },
  "language_info": {
   "codemirror_mode": {
    "name": "ipython",
    "version": 3
   },
   "file_extension": ".py",
   "mimetype": "text/x-python",
   "name": "python",
   "nbconvert_exporter": "python",
   "pygments_lexer": "ipython3",
   "version": "3.11.4"
  }
 },
 "nbformat": 4,
 "nbformat_minor": 5
}
